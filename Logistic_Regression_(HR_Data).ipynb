{
  "nbformat": 4,
  "nbformat_minor": 0,
  "metadata": {
    "colab": {
      "provenance": []
    },
    "kernelspec": {
      "name": "python3",
      "display_name": "Python 3"
    },
    "language_info": {
      "name": "python"
    }
  },
  "cells": [
    {
      "cell_type": "markdown",
      "source": [
        "# **We need to predict if an Employee will get promoted or not**"
      ],
      "metadata": {
        "id": "fR85O_z3_W9q"
      }
    },
    {
      "cell_type": "markdown",
      "source": [
        "**Reading the dataset**"
      ],
      "metadata": {
        "id": "6Bp9sDwnABtR"
      }
    },
    {
      "cell_type": "code",
      "execution_count": 1,
      "metadata": {
        "colab": {
          "base_uri": "https://localhost:8080/",
          "height": 73
        },
        "id": "l0kmkuMAy55P",
        "outputId": "7b7b36bc-cec6-4c9a-9ef7-174226aad613"
      },
      "outputs": [
        {
          "output_type": "display_data",
          "data": {
            "text/plain": [
              "<IPython.core.display.HTML object>"
            ],
            "text/html": [
              "\n",
              "     <input type=\"file\" id=\"files-24f97afd-abc0-431c-841e-cec51ef02180\" name=\"files[]\" multiple disabled\n",
              "        style=\"border:none\" />\n",
              "     <output id=\"result-24f97afd-abc0-431c-841e-cec51ef02180\">\n",
              "      Upload widget is only available when the cell has been executed in the\n",
              "      current browser session. Please rerun this cell to enable.\n",
              "      </output>\n",
              "      <script>// Copyright 2017 Google LLC\n",
              "//\n",
              "// Licensed under the Apache License, Version 2.0 (the \"License\");\n",
              "// you may not use this file except in compliance with the License.\n",
              "// You may obtain a copy of the License at\n",
              "//\n",
              "//      http://www.apache.org/licenses/LICENSE-2.0\n",
              "//\n",
              "// Unless required by applicable law or agreed to in writing, software\n",
              "// distributed under the License is distributed on an \"AS IS\" BASIS,\n",
              "// WITHOUT WARRANTIES OR CONDITIONS OF ANY KIND, either express or implied.\n",
              "// See the License for the specific language governing permissions and\n",
              "// limitations under the License.\n",
              "\n",
              "/**\n",
              " * @fileoverview Helpers for google.colab Python module.\n",
              " */\n",
              "(function(scope) {\n",
              "function span(text, styleAttributes = {}) {\n",
              "  const element = document.createElement('span');\n",
              "  element.textContent = text;\n",
              "  for (const key of Object.keys(styleAttributes)) {\n",
              "    element.style[key] = styleAttributes[key];\n",
              "  }\n",
              "  return element;\n",
              "}\n",
              "\n",
              "// Max number of bytes which will be uploaded at a time.\n",
              "const MAX_PAYLOAD_SIZE = 100 * 1024;\n",
              "\n",
              "function _uploadFiles(inputId, outputId) {\n",
              "  const steps = uploadFilesStep(inputId, outputId);\n",
              "  const outputElement = document.getElementById(outputId);\n",
              "  // Cache steps on the outputElement to make it available for the next call\n",
              "  // to uploadFilesContinue from Python.\n",
              "  outputElement.steps = steps;\n",
              "\n",
              "  return _uploadFilesContinue(outputId);\n",
              "}\n",
              "\n",
              "// This is roughly an async generator (not supported in the browser yet),\n",
              "// where there are multiple asynchronous steps and the Python side is going\n",
              "// to poll for completion of each step.\n",
              "// This uses a Promise to block the python side on completion of each step,\n",
              "// then passes the result of the previous step as the input to the next step.\n",
              "function _uploadFilesContinue(outputId) {\n",
              "  const outputElement = document.getElementById(outputId);\n",
              "  const steps = outputElement.steps;\n",
              "\n",
              "  const next = steps.next(outputElement.lastPromiseValue);\n",
              "  return Promise.resolve(next.value.promise).then((value) => {\n",
              "    // Cache the last promise value to make it available to the next\n",
              "    // step of the generator.\n",
              "    outputElement.lastPromiseValue = value;\n",
              "    return next.value.response;\n",
              "  });\n",
              "}\n",
              "\n",
              "/**\n",
              " * Generator function which is called between each async step of the upload\n",
              " * process.\n",
              " * @param {string} inputId Element ID of the input file picker element.\n",
              " * @param {string} outputId Element ID of the output display.\n",
              " * @return {!Iterable<!Object>} Iterable of next steps.\n",
              " */\n",
              "function* uploadFilesStep(inputId, outputId) {\n",
              "  const inputElement = document.getElementById(inputId);\n",
              "  inputElement.disabled = false;\n",
              "\n",
              "  const outputElement = document.getElementById(outputId);\n",
              "  outputElement.innerHTML = '';\n",
              "\n",
              "  const pickedPromise = new Promise((resolve) => {\n",
              "    inputElement.addEventListener('change', (e) => {\n",
              "      resolve(e.target.files);\n",
              "    });\n",
              "  });\n",
              "\n",
              "  const cancel = document.createElement('button');\n",
              "  inputElement.parentElement.appendChild(cancel);\n",
              "  cancel.textContent = 'Cancel upload';\n",
              "  const cancelPromise = new Promise((resolve) => {\n",
              "    cancel.onclick = () => {\n",
              "      resolve(null);\n",
              "    };\n",
              "  });\n",
              "\n",
              "  // Wait for the user to pick the files.\n",
              "  const files = yield {\n",
              "    promise: Promise.race([pickedPromise, cancelPromise]),\n",
              "    response: {\n",
              "      action: 'starting',\n",
              "    }\n",
              "  };\n",
              "\n",
              "  cancel.remove();\n",
              "\n",
              "  // Disable the input element since further picks are not allowed.\n",
              "  inputElement.disabled = true;\n",
              "\n",
              "  if (!files) {\n",
              "    return {\n",
              "      response: {\n",
              "        action: 'complete',\n",
              "      }\n",
              "    };\n",
              "  }\n",
              "\n",
              "  for (const file of files) {\n",
              "    const li = document.createElement('li');\n",
              "    li.append(span(file.name, {fontWeight: 'bold'}));\n",
              "    li.append(span(\n",
              "        `(${file.type || 'n/a'}) - ${file.size} bytes, ` +\n",
              "        `last modified: ${\n",
              "            file.lastModifiedDate ? file.lastModifiedDate.toLocaleDateString() :\n",
              "                                    'n/a'} - `));\n",
              "    const percent = span('0% done');\n",
              "    li.appendChild(percent);\n",
              "\n",
              "    outputElement.appendChild(li);\n",
              "\n",
              "    const fileDataPromise = new Promise((resolve) => {\n",
              "      const reader = new FileReader();\n",
              "      reader.onload = (e) => {\n",
              "        resolve(e.target.result);\n",
              "      };\n",
              "      reader.readAsArrayBuffer(file);\n",
              "    });\n",
              "    // Wait for the data to be ready.\n",
              "    let fileData = yield {\n",
              "      promise: fileDataPromise,\n",
              "      response: {\n",
              "        action: 'continue',\n",
              "      }\n",
              "    };\n",
              "\n",
              "    // Use a chunked sending to avoid message size limits. See b/62115660.\n",
              "    let position = 0;\n",
              "    do {\n",
              "      const length = Math.min(fileData.byteLength - position, MAX_PAYLOAD_SIZE);\n",
              "      const chunk = new Uint8Array(fileData, position, length);\n",
              "      position += length;\n",
              "\n",
              "      const base64 = btoa(String.fromCharCode.apply(null, chunk));\n",
              "      yield {\n",
              "        response: {\n",
              "          action: 'append',\n",
              "          file: file.name,\n",
              "          data: base64,\n",
              "        },\n",
              "      };\n",
              "\n",
              "      let percentDone = fileData.byteLength === 0 ?\n",
              "          100 :\n",
              "          Math.round((position / fileData.byteLength) * 100);\n",
              "      percent.textContent = `${percentDone}% done`;\n",
              "\n",
              "    } while (position < fileData.byteLength);\n",
              "  }\n",
              "\n",
              "  // All done.\n",
              "  yield {\n",
              "    response: {\n",
              "      action: 'complete',\n",
              "    }\n",
              "  };\n",
              "}\n",
              "\n",
              "scope.google = scope.google || {};\n",
              "scope.google.colab = scope.google.colab || {};\n",
              "scope.google.colab._files = {\n",
              "  _uploadFiles,\n",
              "  _uploadFilesContinue,\n",
              "};\n",
              "})(self);\n",
              "</script> "
            ]
          },
          "metadata": {}
        },
        {
          "output_type": "stream",
          "name": "stdout",
          "text": [
            "Saving HR_Data.csv to HR_Data.csv\n"
          ]
        }
      ],
      "source": [
        "import pandas as pd\n",
        "import io\n",
        "from google.colab import files\n",
        "uploaded = files.upload()\n"
      ]
    },
    {
      "cell_type": "code",
      "source": [
        "data = pd.read_csv(io.BytesIO(uploaded['HR_Data.csv']))"
      ],
      "metadata": {
        "id": "4S953xB1zGQs"
      },
      "execution_count": 2,
      "outputs": []
    },
    {
      "cell_type": "markdown",
      "source": [
        "**Importing Libraries**"
      ],
      "metadata": {
        "id": "NFW5r9_qAF4_"
      }
    },
    {
      "cell_type": "code",
      "source": [
        "import numpy as np\n",
        "import pandas as pd\n",
        "#Libraries for data visualization\n",
        "import matplotlib.pyplot as plt\n",
        "import seaborn as sns\n",
        "#We will use sklearn for building logistic regression model\n",
        "from sklearn.linear_model import LogisticRegression\n",
        "from sklearn.metrics import confusion_matrix, accuracy_score, precision_score, recall_score, f1_score, ConfusionMatrixDisplay\n",
        "from sklearn.metrics import roc_auc_score, auc\n",
        "from sklearn.metrics import roc_curve\n",
        "from warnings import simplefilter\n",
        "import statsmodels.api as sm\n",
        "from sklearn.exceptions import ConvergenceWarning\n",
        "simplefilter(\"ignore\", category=ConvergenceWarning)"
      ],
      "metadata": {
        "id": "H80GcsLjzwH2"
      },
      "execution_count": 3,
      "outputs": []
    },
    {
      "cell_type": "code",
      "source": [
        "#!pip install sklearn.utils.testing"
      ],
      "metadata": {
        "id": "6or33v2EJWor"
      },
      "execution_count": 4,
      "outputs": []
    },
    {
      "cell_type": "markdown",
      "source": [
        "**Building Data Understanding**"
      ],
      "metadata": {
        "id": "0akSMqWLBdcz"
      }
    },
    {
      "cell_type": "code",
      "source": [
        "#shape of dataset\n",
        "print(\"shape of dataframe is : \", data.shape)"
      ],
      "metadata": {
        "colab": {
          "base_uri": "https://localhost:8080/"
        },
        "id": "Ac7fv86KzO4U",
        "outputId": "42516e4b-b4cd-4cf1-aa6b-ef4f87bb7790"
      },
      "execution_count": 5,
      "outputs": [
        {
          "output_type": "stream",
          "name": "stdout",
          "text": [
            "shape of dataframe is :  (54808, 14)\n"
          ]
        }
      ]
    },
    {
      "cell_type": "code",
      "source": [
        "# summary of data\n",
        "data.info()"
      ],
      "metadata": {
        "colab": {
          "base_uri": "https://localhost:8080/"
        },
        "id": "DrJC6XIdBm4n",
        "outputId": "78bc2c2f-312c-4265-8309-3506a902dcd9"
      },
      "execution_count": 6,
      "outputs": [
        {
          "output_type": "stream",
          "name": "stdout",
          "text": [
            "<class 'pandas.core.frame.DataFrame'>\n",
            "RangeIndex: 54808 entries, 0 to 54807\n",
            "Data columns (total 14 columns):\n",
            " #   Column                Non-Null Count  Dtype  \n",
            "---  ------                --------------  -----  \n",
            " 0   employee_id           54808 non-null  int64  \n",
            " 1   department            54808 non-null  object \n",
            " 2   region                54808 non-null  object \n",
            " 3   education             52399 non-null  object \n",
            " 4   gender                54808 non-null  object \n",
            " 5   recruitment_channel   54808 non-null  object \n",
            " 6   no_of_trainings       54808 non-null  int64  \n",
            " 7   age                   54808 non-null  int64  \n",
            " 8   previous_year_rating  50684 non-null  float64\n",
            " 9   length_of_service     54808 non-null  int64  \n",
            " 10  KPIs_met >80%         54808 non-null  int64  \n",
            " 11  awards_won?           54808 non-null  int64  \n",
            " 12  avg_training_score    54808 non-null  int64  \n",
            " 13  is_promoted           54808 non-null  int64  \n",
            "dtypes: float64(1), int64(8), object(5)\n",
            "memory usage: 5.9+ MB\n"
          ]
        }
      ]
    },
    {
      "cell_type": "code",
      "source": [
        "#Get Statistical details of data\n",
        "data.describe()"
      ],
      "metadata": {
        "colab": {
          "base_uri": "https://localhost:8080/",
          "height": 300
        },
        "id": "CopOfJRpBokA",
        "outputId": "c95db2a1-eda4-4aa9-c31c-37c0c91a051a"
      },
      "execution_count": 7,
      "outputs": [
        {
          "output_type": "execute_result",
          "data": {
            "text/plain": [
              "        employee_id  no_of_trainings           age  previous_year_rating  \\\n",
              "count  54808.000000     54808.000000  54808.000000          50684.000000   \n",
              "mean   39195.830627         1.253011     34.803915              3.329256   \n",
              "std    22586.581449         0.609264      7.660169              1.259993   \n",
              "min        1.000000         1.000000     20.000000              1.000000   \n",
              "25%    19669.750000         1.000000     29.000000              3.000000   \n",
              "50%    39225.500000         1.000000     33.000000              3.000000   \n",
              "75%    58730.500000         1.000000     39.000000              4.000000   \n",
              "max    78298.000000        10.000000     60.000000              5.000000   \n",
              "\n",
              "       length_of_service  KPIs_met >80%   awards_won?  avg_training_score  \\\n",
              "count       54808.000000   54808.000000  54808.000000        54808.000000   \n",
              "mean            5.865512       0.351974      0.023172           63.386750   \n",
              "std             4.265094       0.477590      0.150450           13.371559   \n",
              "min             1.000000       0.000000      0.000000           39.000000   \n",
              "25%             3.000000       0.000000      0.000000           51.000000   \n",
              "50%             5.000000       0.000000      0.000000           60.000000   \n",
              "75%             7.000000       1.000000      0.000000           76.000000   \n",
              "max            37.000000       1.000000      1.000000           99.000000   \n",
              "\n",
              "        is_promoted  \n",
              "count  54808.000000  \n",
              "mean       0.085170  \n",
              "std        0.279137  \n",
              "min        0.000000  \n",
              "25%        0.000000  \n",
              "50%        0.000000  \n",
              "75%        0.000000  \n",
              "max        1.000000  "
            ],
            "text/html": [
              "\n",
              "  <div id=\"df-aff5a03f-e4c1-42d4-8dc0-c6a7541cc057\" class=\"colab-df-container\">\n",
              "    <div>\n",
              "<style scoped>\n",
              "    .dataframe tbody tr th:only-of-type {\n",
              "        vertical-align: middle;\n",
              "    }\n",
              "\n",
              "    .dataframe tbody tr th {\n",
              "        vertical-align: top;\n",
              "    }\n",
              "\n",
              "    .dataframe thead th {\n",
              "        text-align: right;\n",
              "    }\n",
              "</style>\n",
              "<table border=\"1\" class=\"dataframe\">\n",
              "  <thead>\n",
              "    <tr style=\"text-align: right;\">\n",
              "      <th></th>\n",
              "      <th>employee_id</th>\n",
              "      <th>no_of_trainings</th>\n",
              "      <th>age</th>\n",
              "      <th>previous_year_rating</th>\n",
              "      <th>length_of_service</th>\n",
              "      <th>KPIs_met &gt;80%</th>\n",
              "      <th>awards_won?</th>\n",
              "      <th>avg_training_score</th>\n",
              "      <th>is_promoted</th>\n",
              "    </tr>\n",
              "  </thead>\n",
              "  <tbody>\n",
              "    <tr>\n",
              "      <th>count</th>\n",
              "      <td>54808.000000</td>\n",
              "      <td>54808.000000</td>\n",
              "      <td>54808.000000</td>\n",
              "      <td>50684.000000</td>\n",
              "      <td>54808.000000</td>\n",
              "      <td>54808.000000</td>\n",
              "      <td>54808.000000</td>\n",
              "      <td>54808.000000</td>\n",
              "      <td>54808.000000</td>\n",
              "    </tr>\n",
              "    <tr>\n",
              "      <th>mean</th>\n",
              "      <td>39195.830627</td>\n",
              "      <td>1.253011</td>\n",
              "      <td>34.803915</td>\n",
              "      <td>3.329256</td>\n",
              "      <td>5.865512</td>\n",
              "      <td>0.351974</td>\n",
              "      <td>0.023172</td>\n",
              "      <td>63.386750</td>\n",
              "      <td>0.085170</td>\n",
              "    </tr>\n",
              "    <tr>\n",
              "      <th>std</th>\n",
              "      <td>22586.581449</td>\n",
              "      <td>0.609264</td>\n",
              "      <td>7.660169</td>\n",
              "      <td>1.259993</td>\n",
              "      <td>4.265094</td>\n",
              "      <td>0.477590</td>\n",
              "      <td>0.150450</td>\n",
              "      <td>13.371559</td>\n",
              "      <td>0.279137</td>\n",
              "    </tr>\n",
              "    <tr>\n",
              "      <th>min</th>\n",
              "      <td>1.000000</td>\n",
              "      <td>1.000000</td>\n",
              "      <td>20.000000</td>\n",
              "      <td>1.000000</td>\n",
              "      <td>1.000000</td>\n",
              "      <td>0.000000</td>\n",
              "      <td>0.000000</td>\n",
              "      <td>39.000000</td>\n",
              "      <td>0.000000</td>\n",
              "    </tr>\n",
              "    <tr>\n",
              "      <th>25%</th>\n",
              "      <td>19669.750000</td>\n",
              "      <td>1.000000</td>\n",
              "      <td>29.000000</td>\n",
              "      <td>3.000000</td>\n",
              "      <td>3.000000</td>\n",
              "      <td>0.000000</td>\n",
              "      <td>0.000000</td>\n",
              "      <td>51.000000</td>\n",
              "      <td>0.000000</td>\n",
              "    </tr>\n",
              "    <tr>\n",
              "      <th>50%</th>\n",
              "      <td>39225.500000</td>\n",
              "      <td>1.000000</td>\n",
              "      <td>33.000000</td>\n",
              "      <td>3.000000</td>\n",
              "      <td>5.000000</td>\n",
              "      <td>0.000000</td>\n",
              "      <td>0.000000</td>\n",
              "      <td>60.000000</td>\n",
              "      <td>0.000000</td>\n",
              "    </tr>\n",
              "    <tr>\n",
              "      <th>75%</th>\n",
              "      <td>58730.500000</td>\n",
              "      <td>1.000000</td>\n",
              "      <td>39.000000</td>\n",
              "      <td>4.000000</td>\n",
              "      <td>7.000000</td>\n",
              "      <td>1.000000</td>\n",
              "      <td>0.000000</td>\n",
              "      <td>76.000000</td>\n",
              "      <td>0.000000</td>\n",
              "    </tr>\n",
              "    <tr>\n",
              "      <th>max</th>\n",
              "      <td>78298.000000</td>\n",
              "      <td>10.000000</td>\n",
              "      <td>60.000000</td>\n",
              "      <td>5.000000</td>\n",
              "      <td>37.000000</td>\n",
              "      <td>1.000000</td>\n",
              "      <td>1.000000</td>\n",
              "      <td>99.000000</td>\n",
              "      <td>1.000000</td>\n",
              "    </tr>\n",
              "  </tbody>\n",
              "</table>\n",
              "</div>\n",
              "    <div class=\"colab-df-buttons\">\n",
              "\n",
              "  <div class=\"colab-df-container\">\n",
              "    <button class=\"colab-df-convert\" onclick=\"convertToInteractive('df-aff5a03f-e4c1-42d4-8dc0-c6a7541cc057')\"\n",
              "            title=\"Convert this dataframe to an interactive table.\"\n",
              "            style=\"display:none;\">\n",
              "\n",
              "  <svg xmlns=\"http://www.w3.org/2000/svg\" height=\"24px\" viewBox=\"0 -960 960 960\">\n",
              "    <path d=\"M120-120v-720h720v720H120Zm60-500h600v-160H180v160Zm220 220h160v-160H400v160Zm0 220h160v-160H400v160ZM180-400h160v-160H180v160Zm440 0h160v-160H620v160ZM180-180h160v-160H180v160Zm440 0h160v-160H620v160Z\"/>\n",
              "  </svg>\n",
              "    </button>\n",
              "\n",
              "  <style>\n",
              "    .colab-df-container {\n",
              "      display:flex;\n",
              "      gap: 12px;\n",
              "    }\n",
              "\n",
              "    .colab-df-convert {\n",
              "      background-color: #E8F0FE;\n",
              "      border: none;\n",
              "      border-radius: 50%;\n",
              "      cursor: pointer;\n",
              "      display: none;\n",
              "      fill: #1967D2;\n",
              "      height: 32px;\n",
              "      padding: 0 0 0 0;\n",
              "      width: 32px;\n",
              "    }\n",
              "\n",
              "    .colab-df-convert:hover {\n",
              "      background-color: #E2EBFA;\n",
              "      box-shadow: 0px 1px 2px rgba(60, 64, 67, 0.3), 0px 1px 3px 1px rgba(60, 64, 67, 0.15);\n",
              "      fill: #174EA6;\n",
              "    }\n",
              "\n",
              "    .colab-df-buttons div {\n",
              "      margin-bottom: 4px;\n",
              "    }\n",
              "\n",
              "    [theme=dark] .colab-df-convert {\n",
              "      background-color: #3B4455;\n",
              "      fill: #D2E3FC;\n",
              "    }\n",
              "\n",
              "    [theme=dark] .colab-df-convert:hover {\n",
              "      background-color: #434B5C;\n",
              "      box-shadow: 0px 1px 3px 1px rgba(0, 0, 0, 0.15);\n",
              "      filter: drop-shadow(0px 1px 2px rgba(0, 0, 0, 0.3));\n",
              "      fill: #FFFFFF;\n",
              "    }\n",
              "  </style>\n",
              "\n",
              "    <script>\n",
              "      const buttonEl =\n",
              "        document.querySelector('#df-aff5a03f-e4c1-42d4-8dc0-c6a7541cc057 button.colab-df-convert');\n",
              "      buttonEl.style.display =\n",
              "        google.colab.kernel.accessAllowed ? 'block' : 'none';\n",
              "\n",
              "      async function convertToInteractive(key) {\n",
              "        const element = document.querySelector('#df-aff5a03f-e4c1-42d4-8dc0-c6a7541cc057');\n",
              "        const dataTable =\n",
              "          await google.colab.kernel.invokeFunction('convertToInteractive',\n",
              "                                                    [key], {});\n",
              "        if (!dataTable) return;\n",
              "\n",
              "        const docLinkHtml = 'Like what you see? Visit the ' +\n",
              "          '<a target=\"_blank\" href=https://colab.research.google.com/notebooks/data_table.ipynb>data table notebook</a>'\n",
              "          + ' to learn more about interactive tables.';\n",
              "        element.innerHTML = '';\n",
              "        dataTable['output_type'] = 'display_data';\n",
              "        await google.colab.output.renderOutput(dataTable, element);\n",
              "        const docLink = document.createElement('div');\n",
              "        docLink.innerHTML = docLinkHtml;\n",
              "        element.appendChild(docLink);\n",
              "      }\n",
              "    </script>\n",
              "  </div>\n",
              "\n",
              "\n",
              "<div id=\"df-f5db7b73-dfd4-4bc3-bf0a-83cca6fe1349\">\n",
              "  <button class=\"colab-df-quickchart\" onclick=\"quickchart('df-f5db7b73-dfd4-4bc3-bf0a-83cca6fe1349')\"\n",
              "            title=\"Suggest charts.\"\n",
              "            style=\"display:none;\">\n",
              "\n",
              "<svg xmlns=\"http://www.w3.org/2000/svg\" height=\"24px\"viewBox=\"0 0 24 24\"\n",
              "     width=\"24px\">\n",
              "    <g>\n",
              "        <path d=\"M19 3H5c-1.1 0-2 .9-2 2v14c0 1.1.9 2 2 2h14c1.1 0 2-.9 2-2V5c0-1.1-.9-2-2-2zM9 17H7v-7h2v7zm4 0h-2V7h2v10zm4 0h-2v-4h2v4z\"/>\n",
              "    </g>\n",
              "</svg>\n",
              "  </button>\n",
              "\n",
              "<style>\n",
              "  .colab-df-quickchart {\n",
              "    background-color: #E8F0FE;\n",
              "    border: none;\n",
              "    border-radius: 50%;\n",
              "    cursor: pointer;\n",
              "    display: none;\n",
              "    fill: #1967D2;\n",
              "    height: 32px;\n",
              "    padding: 0 0 0 0;\n",
              "    width: 32px;\n",
              "  }\n",
              "\n",
              "  .colab-df-quickchart:hover {\n",
              "    background-color: #E2EBFA;\n",
              "    box-shadow: 0px 1px 2px rgba(60, 64, 67, 0.3), 0px 1px 3px 1px rgba(60, 64, 67, 0.15);\n",
              "    fill: #174EA6;\n",
              "  }\n",
              "\n",
              "  [theme=dark] .colab-df-quickchart {\n",
              "    background-color: #3B4455;\n",
              "    fill: #D2E3FC;\n",
              "  }\n",
              "\n",
              "  [theme=dark] .colab-df-quickchart:hover {\n",
              "    background-color: #434B5C;\n",
              "    box-shadow: 0px 1px 3px 1px rgba(0, 0, 0, 0.15);\n",
              "    filter: drop-shadow(0px 1px 2px rgba(0, 0, 0, 0.3));\n",
              "    fill: #FFFFFF;\n",
              "  }\n",
              "</style>\n",
              "\n",
              "  <script>\n",
              "    async function quickchart(key) {\n",
              "      const charts = await google.colab.kernel.invokeFunction(\n",
              "          'suggestCharts', [key], {});\n",
              "    }\n",
              "    (() => {\n",
              "      let quickchartButtonEl =\n",
              "        document.querySelector('#df-f5db7b73-dfd4-4bc3-bf0a-83cca6fe1349 button');\n",
              "      quickchartButtonEl.style.display =\n",
              "        google.colab.kernel.accessAllowed ? 'block' : 'none';\n",
              "    })();\n",
              "  </script>\n",
              "</div>\n",
              "    </div>\n",
              "  </div>\n"
            ]
          },
          "metadata": {},
          "execution_count": 7
        }
      ]
    },
    {
      "cell_type": "code",
      "source": [
        "data.head()"
      ],
      "metadata": {
        "colab": {
          "base_uri": "https://localhost:8080/",
          "height": 295
        },
        "id": "H_gXt5eCMbxd",
        "outputId": "534788c1-20b1-4aec-dad1-b83022e1749f"
      },
      "execution_count": 8,
      "outputs": [
        {
          "output_type": "execute_result",
          "data": {
            "text/plain": [
              "   employee_id         department     region         education gender  \\\n",
              "0        65438  Sales & Marketing   region_7  Master's & above      f   \n",
              "1        65141         Operations  region_22        Bachelor's      m   \n",
              "2         7513  Sales & Marketing  region_19        Bachelor's      m   \n",
              "3         2542  Sales & Marketing  region_23        Bachelor's      m   \n",
              "4        48945         Technology  region_26        Bachelor's      m   \n",
              "\n",
              "  recruitment_channel  no_of_trainings  age  previous_year_rating  \\\n",
              "0            sourcing                1   35                   5.0   \n",
              "1               other                1   30                   5.0   \n",
              "2            sourcing                1   34                   3.0   \n",
              "3               other                2   39                   1.0   \n",
              "4               other                1   45                   3.0   \n",
              "\n",
              "   length_of_service  KPIs_met >80%  awards_won?  avg_training_score  \\\n",
              "0                  8              1            0                  49   \n",
              "1                  4              0            0                  60   \n",
              "2                  7              0            0                  50   \n",
              "3                 10              0            0                  50   \n",
              "4                  2              0            0                  73   \n",
              "\n",
              "   is_promoted  \n",
              "0            0  \n",
              "1            0  \n",
              "2            0  \n",
              "3            0  \n",
              "4            0  "
            ],
            "text/html": [
              "\n",
              "  <div id=\"df-b55f21c2-3db8-41a8-abc0-163c450a7803\" class=\"colab-df-container\">\n",
              "    <div>\n",
              "<style scoped>\n",
              "    .dataframe tbody tr th:only-of-type {\n",
              "        vertical-align: middle;\n",
              "    }\n",
              "\n",
              "    .dataframe tbody tr th {\n",
              "        vertical-align: top;\n",
              "    }\n",
              "\n",
              "    .dataframe thead th {\n",
              "        text-align: right;\n",
              "    }\n",
              "</style>\n",
              "<table border=\"1\" class=\"dataframe\">\n",
              "  <thead>\n",
              "    <tr style=\"text-align: right;\">\n",
              "      <th></th>\n",
              "      <th>employee_id</th>\n",
              "      <th>department</th>\n",
              "      <th>region</th>\n",
              "      <th>education</th>\n",
              "      <th>gender</th>\n",
              "      <th>recruitment_channel</th>\n",
              "      <th>no_of_trainings</th>\n",
              "      <th>age</th>\n",
              "      <th>previous_year_rating</th>\n",
              "      <th>length_of_service</th>\n",
              "      <th>KPIs_met &gt;80%</th>\n",
              "      <th>awards_won?</th>\n",
              "      <th>avg_training_score</th>\n",
              "      <th>is_promoted</th>\n",
              "    </tr>\n",
              "  </thead>\n",
              "  <tbody>\n",
              "    <tr>\n",
              "      <th>0</th>\n",
              "      <td>65438</td>\n",
              "      <td>Sales &amp; Marketing</td>\n",
              "      <td>region_7</td>\n",
              "      <td>Master's &amp; above</td>\n",
              "      <td>f</td>\n",
              "      <td>sourcing</td>\n",
              "      <td>1</td>\n",
              "      <td>35</td>\n",
              "      <td>5.0</td>\n",
              "      <td>8</td>\n",
              "      <td>1</td>\n",
              "      <td>0</td>\n",
              "      <td>49</td>\n",
              "      <td>0</td>\n",
              "    </tr>\n",
              "    <tr>\n",
              "      <th>1</th>\n",
              "      <td>65141</td>\n",
              "      <td>Operations</td>\n",
              "      <td>region_22</td>\n",
              "      <td>Bachelor's</td>\n",
              "      <td>m</td>\n",
              "      <td>other</td>\n",
              "      <td>1</td>\n",
              "      <td>30</td>\n",
              "      <td>5.0</td>\n",
              "      <td>4</td>\n",
              "      <td>0</td>\n",
              "      <td>0</td>\n",
              "      <td>60</td>\n",
              "      <td>0</td>\n",
              "    </tr>\n",
              "    <tr>\n",
              "      <th>2</th>\n",
              "      <td>7513</td>\n",
              "      <td>Sales &amp; Marketing</td>\n",
              "      <td>region_19</td>\n",
              "      <td>Bachelor's</td>\n",
              "      <td>m</td>\n",
              "      <td>sourcing</td>\n",
              "      <td>1</td>\n",
              "      <td>34</td>\n",
              "      <td>3.0</td>\n",
              "      <td>7</td>\n",
              "      <td>0</td>\n",
              "      <td>0</td>\n",
              "      <td>50</td>\n",
              "      <td>0</td>\n",
              "    </tr>\n",
              "    <tr>\n",
              "      <th>3</th>\n",
              "      <td>2542</td>\n",
              "      <td>Sales &amp; Marketing</td>\n",
              "      <td>region_23</td>\n",
              "      <td>Bachelor's</td>\n",
              "      <td>m</td>\n",
              "      <td>other</td>\n",
              "      <td>2</td>\n",
              "      <td>39</td>\n",
              "      <td>1.0</td>\n",
              "      <td>10</td>\n",
              "      <td>0</td>\n",
              "      <td>0</td>\n",
              "      <td>50</td>\n",
              "      <td>0</td>\n",
              "    </tr>\n",
              "    <tr>\n",
              "      <th>4</th>\n",
              "      <td>48945</td>\n",
              "      <td>Technology</td>\n",
              "      <td>region_26</td>\n",
              "      <td>Bachelor's</td>\n",
              "      <td>m</td>\n",
              "      <td>other</td>\n",
              "      <td>1</td>\n",
              "      <td>45</td>\n",
              "      <td>3.0</td>\n",
              "      <td>2</td>\n",
              "      <td>0</td>\n",
              "      <td>0</td>\n",
              "      <td>73</td>\n",
              "      <td>0</td>\n",
              "    </tr>\n",
              "  </tbody>\n",
              "</table>\n",
              "</div>\n",
              "    <div class=\"colab-df-buttons\">\n",
              "\n",
              "  <div class=\"colab-df-container\">\n",
              "    <button class=\"colab-df-convert\" onclick=\"convertToInteractive('df-b55f21c2-3db8-41a8-abc0-163c450a7803')\"\n",
              "            title=\"Convert this dataframe to an interactive table.\"\n",
              "            style=\"display:none;\">\n",
              "\n",
              "  <svg xmlns=\"http://www.w3.org/2000/svg\" height=\"24px\" viewBox=\"0 -960 960 960\">\n",
              "    <path d=\"M120-120v-720h720v720H120Zm60-500h600v-160H180v160Zm220 220h160v-160H400v160Zm0 220h160v-160H400v160ZM180-400h160v-160H180v160Zm440 0h160v-160H620v160ZM180-180h160v-160H180v160Zm440 0h160v-160H620v160Z\"/>\n",
              "  </svg>\n",
              "    </button>\n",
              "\n",
              "  <style>\n",
              "    .colab-df-container {\n",
              "      display:flex;\n",
              "      gap: 12px;\n",
              "    }\n",
              "\n",
              "    .colab-df-convert {\n",
              "      background-color: #E8F0FE;\n",
              "      border: none;\n",
              "      border-radius: 50%;\n",
              "      cursor: pointer;\n",
              "      display: none;\n",
              "      fill: #1967D2;\n",
              "      height: 32px;\n",
              "      padding: 0 0 0 0;\n",
              "      width: 32px;\n",
              "    }\n",
              "\n",
              "    .colab-df-convert:hover {\n",
              "      background-color: #E2EBFA;\n",
              "      box-shadow: 0px 1px 2px rgba(60, 64, 67, 0.3), 0px 1px 3px 1px rgba(60, 64, 67, 0.15);\n",
              "      fill: #174EA6;\n",
              "    }\n",
              "\n",
              "    .colab-df-buttons div {\n",
              "      margin-bottom: 4px;\n",
              "    }\n",
              "\n",
              "    [theme=dark] .colab-df-convert {\n",
              "      background-color: #3B4455;\n",
              "      fill: #D2E3FC;\n",
              "    }\n",
              "\n",
              "    [theme=dark] .colab-df-convert:hover {\n",
              "      background-color: #434B5C;\n",
              "      box-shadow: 0px 1px 3px 1px rgba(0, 0, 0, 0.15);\n",
              "      filter: drop-shadow(0px 1px 2px rgba(0, 0, 0, 0.3));\n",
              "      fill: #FFFFFF;\n",
              "    }\n",
              "  </style>\n",
              "\n",
              "    <script>\n",
              "      const buttonEl =\n",
              "        document.querySelector('#df-b55f21c2-3db8-41a8-abc0-163c450a7803 button.colab-df-convert');\n",
              "      buttonEl.style.display =\n",
              "        google.colab.kernel.accessAllowed ? 'block' : 'none';\n",
              "\n",
              "      async function convertToInteractive(key) {\n",
              "        const element = document.querySelector('#df-b55f21c2-3db8-41a8-abc0-163c450a7803');\n",
              "        const dataTable =\n",
              "          await google.colab.kernel.invokeFunction('convertToInteractive',\n",
              "                                                    [key], {});\n",
              "        if (!dataTable) return;\n",
              "\n",
              "        const docLinkHtml = 'Like what you see? Visit the ' +\n",
              "          '<a target=\"_blank\" href=https://colab.research.google.com/notebooks/data_table.ipynb>data table notebook</a>'\n",
              "          + ' to learn more about interactive tables.';\n",
              "        element.innerHTML = '';\n",
              "        dataTable['output_type'] = 'display_data';\n",
              "        await google.colab.output.renderOutput(dataTable, element);\n",
              "        const docLink = document.createElement('div');\n",
              "        docLink.innerHTML = docLinkHtml;\n",
              "        element.appendChild(docLink);\n",
              "      }\n",
              "    </script>\n",
              "  </div>\n",
              "\n",
              "\n",
              "<div id=\"df-32518072-6b4f-4c6b-94c7-0f3ee547d422\">\n",
              "  <button class=\"colab-df-quickchart\" onclick=\"quickchart('df-32518072-6b4f-4c6b-94c7-0f3ee547d422')\"\n",
              "            title=\"Suggest charts.\"\n",
              "            style=\"display:none;\">\n",
              "\n",
              "<svg xmlns=\"http://www.w3.org/2000/svg\" height=\"24px\"viewBox=\"0 0 24 24\"\n",
              "     width=\"24px\">\n",
              "    <g>\n",
              "        <path d=\"M19 3H5c-1.1 0-2 .9-2 2v14c0 1.1.9 2 2 2h14c1.1 0 2-.9 2-2V5c0-1.1-.9-2-2-2zM9 17H7v-7h2v7zm4 0h-2V7h2v10zm4 0h-2v-4h2v4z\"/>\n",
              "    </g>\n",
              "</svg>\n",
              "  </button>\n",
              "\n",
              "<style>\n",
              "  .colab-df-quickchart {\n",
              "    background-color: #E8F0FE;\n",
              "    border: none;\n",
              "    border-radius: 50%;\n",
              "    cursor: pointer;\n",
              "    display: none;\n",
              "    fill: #1967D2;\n",
              "    height: 32px;\n",
              "    padding: 0 0 0 0;\n",
              "    width: 32px;\n",
              "  }\n",
              "\n",
              "  .colab-df-quickchart:hover {\n",
              "    background-color: #E2EBFA;\n",
              "    box-shadow: 0px 1px 2px rgba(60, 64, 67, 0.3), 0px 1px 3px 1px rgba(60, 64, 67, 0.15);\n",
              "    fill: #174EA6;\n",
              "  }\n",
              "\n",
              "  [theme=dark] .colab-df-quickchart {\n",
              "    background-color: #3B4455;\n",
              "    fill: #D2E3FC;\n",
              "  }\n",
              "\n",
              "  [theme=dark] .colab-df-quickchart:hover {\n",
              "    background-color: #434B5C;\n",
              "    box-shadow: 0px 1px 3px 1px rgba(0, 0, 0, 0.15);\n",
              "    filter: drop-shadow(0px 1px 2px rgba(0, 0, 0, 0.3));\n",
              "    fill: #FFFFFF;\n",
              "  }\n",
              "</style>\n",
              "\n",
              "  <script>\n",
              "    async function quickchart(key) {\n",
              "      const charts = await google.colab.kernel.invokeFunction(\n",
              "          'suggestCharts', [key], {});\n",
              "    }\n",
              "    (() => {\n",
              "      let quickchartButtonEl =\n",
              "        document.querySelector('#df-32518072-6b4f-4c6b-94c7-0f3ee547d422 button');\n",
              "      quickchartButtonEl.style.display =\n",
              "        google.colab.kernel.accessAllowed ? 'block' : 'none';\n",
              "    })();\n",
              "  </script>\n",
              "</div>\n",
              "    </div>\n",
              "  </div>\n"
            ]
          },
          "metadata": {},
          "execution_count": 8
        }
      ]
    },
    {
      "cell_type": "markdown",
      "source": [
        "**Data Cleaning**"
      ],
      "metadata": {
        "id": "wcmyrgT0Bycp"
      }
    },
    {
      "cell_type": "code",
      "source": [
        "#Drop employee_id column as it is just a unique id\n",
        "data.drop(\"employee_id\",inplace=True,axis=1)"
      ],
      "metadata": {
        "id": "jKDOOHmRzU-_"
      },
      "execution_count": 9,
      "outputs": []
    },
    {
      "cell_type": "code",
      "source": [
        "#checking number of null values\n",
        "data.isnull().sum()"
      ],
      "metadata": {
        "colab": {
          "base_uri": "https://localhost:8080/"
        },
        "id": "DJGPwGzbCHlM",
        "outputId": "7b846ffd-d5fa-46c1-f1ca-8e1def1ea097"
      },
      "execution_count": 10,
      "outputs": [
        {
          "output_type": "execute_result",
          "data": {
            "text/plain": [
              "department                 0\n",
              "region                     0\n",
              "education               2409\n",
              "gender                     0\n",
              "recruitment_channel        0\n",
              "no_of_trainings            0\n",
              "age                        0\n",
              "previous_year_rating    4124\n",
              "length_of_service          0\n",
              "KPIs_met >80%              0\n",
              "awards_won?                0\n",
              "avg_training_score         0\n",
              "is_promoted                0\n",
              "dtype: int64"
            ]
          },
          "metadata": {},
          "execution_count": 10
        }
      ]
    },
    {
      "cell_type": "code",
      "source": [
        "#Checking null percentage\n",
        "data.isnull().mean()*100"
      ],
      "metadata": {
        "colab": {
          "base_uri": "https://localhost:8080/"
        },
        "id": "YJe_UBDZB-Je",
        "outputId": "de907f9f-c9ce-4704-f38e-904f03f290c4"
      },
      "execution_count": 11,
      "outputs": [
        {
          "output_type": "execute_result",
          "data": {
            "text/plain": [
              "department              0.000000\n",
              "region                  0.000000\n",
              "education               4.395344\n",
              "gender                  0.000000\n",
              "recruitment_channel     0.000000\n",
              "no_of_trainings         0.000000\n",
              "age                     0.000000\n",
              "previous_year_rating    7.524449\n",
              "length_of_service       0.000000\n",
              "KPIs_met >80%           0.000000\n",
              "awards_won?             0.000000\n",
              "avg_training_score      0.000000\n",
              "is_promoted             0.000000\n",
              "dtype: float64"
            ]
          },
          "metadata": {},
          "execution_count": 11
        }
      ]
    },
    {
      "cell_type": "code",
      "source": [
        "#fill missing value\n",
        "#We will fill previous uear rating iwth \"0\" if not present (One can fill with anything else as well based on their undertsanding of data)\n",
        "data[\"previous_year_rating\"]= data[\"previous_year_rating\"].fillna(0)\n",
        "#change type to int\n",
        "data[\"previous_year_rating\"]= data[\"previous_year_rating\"].astype(\"int\")"
      ],
      "metadata": {
        "id": "iS4MK-vjzVB2"
      },
      "execution_count": 12,
      "outputs": []
    },
    {
      "cell_type": "code",
      "source": [
        "#Find out mode value for education\n",
        "data[\"education\"].mode()"
      ],
      "metadata": {
        "colab": {
          "base_uri": "https://localhost:8080/"
        },
        "id": "CZdTuYr6CcQq",
        "outputId": "faeb7557-8db1-4061-9474-a2f4d6f923e8"
      },
      "execution_count": 13,
      "outputs": [
        {
          "output_type": "execute_result",
          "data": {
            "text/plain": [
              "0    Bachelor's\n",
              "Name: education, dtype: object"
            ]
          },
          "metadata": {},
          "execution_count": 13
        }
      ]
    },
    {
      "cell_type": "code",
      "source": [
        "#fill missing value with mode\n",
        "data[\"education\"]= data[\"education\"].fillna(\"Bachelor's\")"
      ],
      "metadata": {
        "id": "HTkYoheXCfrf"
      },
      "execution_count": 14,
      "outputs": []
    },
    {
      "cell_type": "code",
      "source": [
        "# chart for distribution of target variable\n",
        "# (One can use any visualization or chart type he/she is comfortable with)\n",
        "fig= plt.figure(figsize=(10,3) )\n",
        "fig.add_subplot(1,2,1)\n",
        "a= data[\"is_promoted\"].value_counts(normalize=True).plot.pie()\n",
        "fig.add_subplot(1,2,2)\n",
        "churnchart=sns.countplot(x=data[\"is_promoted\"])\n",
        "plt.tight_layout()\n",
        "plt.show()"
      ],
      "metadata": {
        "colab": {
          "base_uri": "https://localhost:8080/",
          "height": 307
        },
        "id": "0OJ-qNpPzVE2",
        "outputId": "654c662e-263b-4ab7-8ea4-c0a029cdcbd6"
      },
      "execution_count": 15,
      "outputs": [
        {
          "output_type": "display_data",
          "data": {
            "text/plain": [
              "<Figure size 1000x300 with 2 Axes>"
            ],
            "image/png": "[encoded data removed]"
          },
          "metadata": {}
        }
      ]
    },
    {
      "cell_type": "code",
      "source": [
        "# Visualize relationship between promoted and other features\n",
        "fig= plt.figure(figsize=(10,5) )\n",
        "fig.add_subplot(1,3,1)\n",
        "ar_6=sns.boxplot(x=data[\"is_promoted\"],y=data[\"length_of_service\"])\n",
        "fig.add_subplot(1,3,2)\n",
        "ar_6=sns.boxplot(x=data[\"is_promoted\"],y=data[\"avg_training_score\"])\n",
        "fig.add_subplot(1,3,3)\n",
        "ar_6=sns.boxplot(x=data[\"is_promoted\"],y=data[\"previous_year_rating\"])\n",
        "plt.tight_layout()\n",
        "plt.show()"
      ],
      "metadata": {
        "colab": {
          "base_uri": "https://localhost:8080/",
          "height": 506
        },
        "id": "TZ9MyBAfzVH9",
        "outputId": "384d0af7-bd54-4d23-be40-eb731a1c3583"
      },
      "execution_count": 16,
      "outputs": [
        {
          "output_type": "display_data",
          "data": {
            "text/plain": [
              "<Figure size 1000x500 with 3 Axes>"
            ],
            "image/png": "[encoded data removed]"
          },
          "metadata": {}
        }
      ]
    },
    {
      "cell_type": "code",
      "source": [
        "data.corr().round(2)"
      ],
      "metadata": {
        "colab": {
          "base_uri": "https://localhost:8080/",
          "height": 355
        },
        "id": "5kYF4Tu5OTk-",
        "outputId": "78de6766-42bb-4025-dd1a-8e5c3c046a52"
      },
      "execution_count": 17,
      "outputs": [
        {
          "output_type": "stream",
          "name": "stderr",
          "text": [
            "<ipython-input-17-10d079c39022>:1: FutureWarning: The default value of numeric_only in DataFrame.corr is deprecated. In a future version, it will default to False. Select only valid columns or specify the value of numeric_only to silence this warning.\n",
            "  data.corr().round(2)\n"
          ]
        },
        {
          "output_type": "execute_result",
          "data": {
            "text/plain": [
              "                      no_of_trainings   age  previous_year_rating  \\\n",
              "no_of_trainings                  1.00 -0.08                 -0.06   \n",
              "age                             -0.08  1.00                  0.18   \n",
              "previous_year_rating            -0.06  0.18                  1.00   \n",
              "length_of_service               -0.06  0.66                  0.19   \n",
              "KPIs_met >80%                   -0.05 -0.03                  0.27   \n",
              "awards_won?                     -0.01 -0.01                  0.02   \n",
              "avg_training_score               0.04 -0.05                  0.06   \n",
              "is_promoted                     -0.02 -0.02                  0.13   \n",
              "\n",
              "                      length_of_service  KPIs_met >80%  awards_won?  \\\n",
              "no_of_trainings                   -0.06          -0.05        -0.01   \n",
              "age                                0.66          -0.03        -0.01   \n",
              "previous_year_rating               0.19           0.27         0.02   \n",
              "length_of_service                  1.00          -0.08        -0.04   \n",
              "KPIs_met >80%                     -0.08           1.00         0.10   \n",
              "awards_won?                       -0.04           0.10         1.00   \n",
              "avg_training_score                -0.04           0.08         0.07   \n",
              "is_promoted                       -0.01           0.22         0.20   \n",
              "\n",
              "                      avg_training_score  is_promoted  \n",
              "no_of_trainings                     0.04        -0.02  \n",
              "age                                -0.05        -0.02  \n",
              "previous_year_rating                0.06         0.13  \n",
              "length_of_service                  -0.04        -0.01  \n",
              "KPIs_met >80%                       0.08         0.22  \n",
              "awards_won?                         0.07         0.20  \n",
              "avg_training_score                  1.00         0.18  \n",
              "is_promoted                         0.18         1.00  "
            ],
            "text/html": [
              "\n",
              "  <div id=\"df-39dab684-a59d-44d0-a2c9-bfeb08a8a3b4\" class=\"colab-df-container\">\n",
              "    <div>\n",
              "<style scoped>\n",
              "    .dataframe tbody tr th:only-of-type {\n",
              "        vertical-align: middle;\n",
              "    }\n",
              "\n",
              "    .dataframe tbody tr th {\n",
              "        vertical-align: top;\n",
              "    }\n",
              "\n",
              "    .dataframe thead th {\n",
              "        text-align: right;\n",
              "    }\n",
              "</style>\n",
              "<table border=\"1\" class=\"dataframe\">\n",
              "  <thead>\n",
              "    <tr style=\"text-align: right;\">\n",
              "      <th></th>\n",
              "      <th>no_of_trainings</th>\n",
              "      <th>age</th>\n",
              "      <th>previous_year_rating</th>\n",
              "      <th>length_of_service</th>\n",
              "      <th>KPIs_met &gt;80%</th>\n",
              "      <th>awards_won?</th>\n",
              "      <th>avg_training_score</th>\n",
              "      <th>is_promoted</th>\n",
              "    </tr>\n",
              "  </thead>\n",
              "  <tbody>\n",
              "    <tr>\n",
              "      <th>no_of_trainings</th>\n",
              "      <td>1.00</td>\n",
              "      <td>-0.08</td>\n",
              "      <td>-0.06</td>\n",
              "      <td>-0.06</td>\n",
              "      <td>-0.05</td>\n",
              "      <td>-0.01</td>\n",
              "      <td>0.04</td>\n",
              "      <td>-0.02</td>\n",
              "    </tr>\n",
              "    <tr>\n",
              "      <th>age</th>\n",
              "      <td>-0.08</td>\n",
              "      <td>1.00</td>\n",
              "      <td>0.18</td>\n",
              "      <td>0.66</td>\n",
              "      <td>-0.03</td>\n",
              "      <td>-0.01</td>\n",
              "      <td>-0.05</td>\n",
              "      <td>-0.02</td>\n",
              "    </tr>\n",
              "    <tr>\n",
              "      <th>previous_year_rating</th>\n",
              "      <td>-0.06</td>\n",
              "      <td>0.18</td>\n",
              "      <td>1.00</td>\n",
              "      <td>0.19</td>\n",
              "      <td>0.27</td>\n",
              "      <td>0.02</td>\n",
              "      <td>0.06</td>\n",
              "      <td>0.13</td>\n",
              "    </tr>\n",
              "    <tr>\n",
              "      <th>length_of_service</th>\n",
              "      <td>-0.06</td>\n",
              "      <td>0.66</td>\n",
              "      <td>0.19</td>\n",
              "      <td>1.00</td>\n",
              "      <td>-0.08</td>\n",
              "      <td>-0.04</td>\n",
              "      <td>-0.04</td>\n",
              "      <td>-0.01</td>\n",
              "    </tr>\n",
              "    <tr>\n",
              "      <th>KPIs_met &gt;80%</th>\n",
              "      <td>-0.05</td>\n",
              "      <td>-0.03</td>\n",
              "      <td>0.27</td>\n",
              "      <td>-0.08</td>\n",
              "      <td>1.00</td>\n",
              "      <td>0.10</td>\n",
              "      <td>0.08</td>\n",
              "      <td>0.22</td>\n",
              "    </tr>\n",
              "    <tr>\n",
              "      <th>awards_won?</th>\n",
              "      <td>-0.01</td>\n",
              "      <td>-0.01</td>\n",
              "      <td>0.02</td>\n",
              "      <td>-0.04</td>\n",
              "      <td>0.10</td>\n",
              "      <td>1.00</td>\n",
              "      <td>0.07</td>\n",
              "      <td>0.20</td>\n",
              "    </tr>\n",
              "    <tr>\n",
              "      <th>avg_training_score</th>\n",
              "      <td>0.04</td>\n",
              "      <td>-0.05</td>\n",
              "      <td>0.06</td>\n",
              "      <td>-0.04</td>\n",
              "      <td>0.08</td>\n",
              "      <td>0.07</td>\n",
              "      <td>1.00</td>\n",
              "      <td>0.18</td>\n",
              "    </tr>\n",
              "    <tr>\n",
              "      <th>is_promoted</th>\n",
              "      <td>-0.02</td>\n",
              "      <td>-0.02</td>\n",
              "      <td>0.13</td>\n",
              "      <td>-0.01</td>\n",
              "      <td>0.22</td>\n",
              "      <td>0.20</td>\n",
              "      <td>0.18</td>\n",
              "      <td>1.00</td>\n",
              "    </tr>\n",
              "  </tbody>\n",
              "</table>\n",
              "</div>\n",
              "    <div class=\"colab-df-buttons\">\n",
              "\n",
              "  <div class=\"colab-df-container\">\n",
              "    <button class=\"colab-df-convert\" onclick=\"convertToInteractive('df-39dab684-a59d-44d0-a2c9-bfeb08a8a3b4')\"\n",
              "            title=\"Convert this dataframe to an interactive table.\"\n",
              "            style=\"display:none;\">\n",
              "\n",
              "  <svg xmlns=\"http://www.w3.org/2000/svg\" height=\"24px\" viewBox=\"0 -960 960 960\">\n",
              "    <path d=\"M120-120v-720h720v720H120Zm60-500h600v-160H180v160Zm220 220h160v-160H400v160Zm0 220h160v-160H400v160ZM180-400h160v-160H180v160Zm440 0h160v-160H620v160ZM180-180h160v-160H180v160Zm440 0h160v-160H620v160Z\"/>\n",
              "  </svg>\n",
              "    </button>\n",
              "\n",
              "  <style>\n",
              "    .colab-df-container {\n",
              "      display:flex;\n",
              "      gap: 12px;\n",
              "    }\n",
              "\n",
              "    .colab-df-convert {\n",
              "      background-color: #E8F0FE;\n",
              "      border: none;\n",
              "      border-radius: 50%;\n",
              "      cursor: pointer;\n",
              "      display: none;\n",
              "      fill: #1967D2;\n",
              "      height: 32px;\n",
              "      padding: 0 0 0 0;\n",
              "      width: 32px;\n",
              "    }\n",
              "\n",
              "    .colab-df-convert:hover {\n",
              "      background-color: #E2EBFA;\n",
              "      box-shadow: 0px 1px 2px rgba(60, 64, 67, 0.3), 0px 1px 3px 1px rgba(60, 64, 67, 0.15);\n",
              "      fill: #174EA6;\n",
              "    }\n",
              "\n",
              "    .colab-df-buttons div {\n",
              "      margin-bottom: 4px;\n",
              "    }\n",
              "\n",
              "    [theme=dark] .colab-df-convert {\n",
              "      background-color: #3B4455;\n",
              "      fill: #D2E3FC;\n",
              "    }\n",
              "\n",
              "    [theme=dark] .colab-df-convert:hover {\n",
              "      background-color: #434B5C;\n",
              "      box-shadow: 0px 1px 3px 1px rgba(0, 0, 0, 0.15);\n",
              "      filter: drop-shadow(0px 1px 2px rgba(0, 0, 0, 0.3));\n",
              "      fill: #FFFFFF;\n",
              "    }\n",
              "  </style>\n",
              "\n",
              "    <script>\n",
              "      const buttonEl =\n",
              "        document.querySelector('#df-39dab684-a59d-44d0-a2c9-bfeb08a8a3b4 button.colab-df-convert');\n",
              "      buttonEl.style.display =\n",
              "        google.colab.kernel.accessAllowed ? 'block' : 'none';\n",
              "\n",
              "      async function convertToInteractive(key) {\n",
              "        const element = document.querySelector('#df-39dab684-a59d-44d0-a2c9-bfeb08a8a3b4');\n",
              "        const dataTable =\n",
              "          await google.colab.kernel.invokeFunction('convertToInteractive',\n",
              "                                                    [key], {});\n",
              "        if (!dataTable) return;\n",
              "\n",
              "        const docLinkHtml = 'Like what you see? Visit the ' +\n",
              "          '<a target=\"_blank\" href=https://colab.research.google.com/notebooks/data_table.ipynb>data table notebook</a>'\n",
              "          + ' to learn more about interactive tables.';\n",
              "        element.innerHTML = '';\n",
              "        dataTable['output_type'] = 'display_data';\n",
              "        await google.colab.output.renderOutput(dataTable, element);\n",
              "        const docLink = document.createElement('div');\n",
              "        docLink.innerHTML = docLinkHtml;\n",
              "        element.appendChild(docLink);\n",
              "      }\n",
              "    </script>\n",
              "  </div>\n",
              "\n",
              "\n",
              "<div id=\"df-6f5e5927-74cc-4538-ac59-74055b6a5438\">\n",
              "  <button class=\"colab-df-quickchart\" onclick=\"quickchart('df-6f5e5927-74cc-4538-ac59-74055b6a5438')\"\n",
              "            title=\"Suggest charts.\"\n",
              "            style=\"display:none;\">\n",
              "\n",
              "<svg xmlns=\"http://www.w3.org/2000/svg\" height=\"24px\"viewBox=\"0 0 24 24\"\n",
              "     width=\"24px\">\n",
              "    <g>\n",
              "        <path d=\"M19 3H5c-1.1 0-2 .9-2 2v14c0 1.1.9 2 2 2h14c1.1 0 2-.9 2-2V5c0-1.1-.9-2-2-2zM9 17H7v-7h2v7zm4 0h-2V7h2v10zm4 0h-2v-4h2v4z\"/>\n",
              "    </g>\n",
              "</svg>\n",
              "  </button>\n",
              "\n",
              "<style>\n",
              "  .colab-df-quickchart {\n",
              "    background-color: #E8F0FE;\n",
              "    border: none;\n",
              "    border-radius: 50%;\n",
              "    cursor: pointer;\n",
              "    display: none;\n",
              "    fill: #1967D2;\n",
              "    height: 32px;\n",
              "    padding: 0 0 0 0;\n",
              "    width: 32px;\n",
              "  }\n",
              "\n",
              "  .colab-df-quickchart:hover {\n",
              "    background-color: #E2EBFA;\n",
              "    box-shadow: 0px 1px 2px rgba(60, 64, 67, 0.3), 0px 1px 3px 1px rgba(60, 64, 67, 0.15);\n",
              "    fill: #174EA6;\n",
              "  }\n",
              "\n",
              "  [theme=dark] .colab-df-quickchart {\n",
              "    background-color: #3B4455;\n",
              "    fill: #D2E3FC;\n",
              "  }\n",
              "\n",
              "  [theme=dark] .colab-df-quickchart:hover {\n",
              "    background-color: #434B5C;\n",
              "    box-shadow: 0px 1px 3px 1px rgba(0, 0, 0, 0.15);\n",
              "    filter: drop-shadow(0px 1px 2px rgba(0, 0, 0, 0.3));\n",
              "    fill: #FFFFFF;\n",
              "  }\n",
              "</style>\n",
              "\n",
              "  <script>\n",
              "    async function quickchart(key) {\n",
              "      const charts = await google.colab.kernel.invokeFunction(\n",
              "          'suggestCharts', [key], {});\n",
              "    }\n",
              "    (() => {\n",
              "      let quickchartButtonEl =\n",
              "        document.querySelector('#df-6f5e5927-74cc-4538-ac59-74055b6a5438 button');\n",
              "      quickchartButtonEl.style.display =\n",
              "        google.colab.kernel.accessAllowed ? 'block' : 'none';\n",
              "    })();\n",
              "  </script>\n",
              "</div>\n",
              "    </div>\n",
              "  </div>\n"
            ]
          },
          "metadata": {},
          "execution_count": 17
        }
      ]
    },
    {
      "cell_type": "code",
      "source": [
        "#correlation between features\n",
        "corr_plot = sns.heatmap(data.corr().round(2),annot = True,linewidths=3 )\n",
        "plt.title(\"Correlation plot\")\n",
        "plt.show()\n",
        "\n",
        "#Age and leght of service are correlated (Though not a very strong correlation)"
      ],
      "metadata": {
        "colab": {
          "base_uri": "https://localhost:8080/",
          "height": 639
        },
        "id": "vYrXK5zlzVKi",
        "outputId": "a6e0ffd9-6ab2-4a00-fc0f-5520ff40b25a"
      },
      "execution_count": 18,
      "outputs": [
        {
          "output_type": "stream",
          "name": "stderr",
          "text": [
            "<ipython-input-18-77da157458af>:2: FutureWarning: The default value of numeric_only in DataFrame.corr is deprecated. In a future version, it will default to False. Select only valid columns or specify the value of numeric_only to silence this warning.\n",
            "  corr_plot = sns.heatmap(data.corr().round(2),annot = True,linewidths=3 )\n"
          ]
        },
        {
          "output_type": "display_data",
          "data": {
            "text/plain": [
              "<Figure size 640x480 with 2 Axes>"
            ],
            "image/png": "[encoded data removed]"
          },
          "metadata": {}
        }
      ]
    },
    {
      "cell_type": "code",
      "source": [
        "#list of other categorical variables\n",
        "categorical_cols = data.select_dtypes([\"object\"]).columns\n",
        "categorical_cols"
      ],
      "metadata": {
        "colab": {
          "base_uri": "https://localhost:8080/"
        },
        "id": "vBfWas9ZEPi5",
        "outputId": "ae7e6cad-827a-4e14-dd3f-d85b7c92d323"
      },
      "execution_count": 19,
      "outputs": [
        {
          "output_type": "execute_result",
          "data": {
            "text/plain": [
              "Index(['department', 'region', 'education', 'gender', 'recruitment_channel'], dtype='object')"
            ]
          },
          "metadata": {},
          "execution_count": 19
        }
      ]
    },
    {
      "cell_type": "code",
      "source": [
        "#Create dummy variables\n",
        "ds=pd.get_dummies(data[categorical_cols],drop_first=True)\n",
        "ds.head()"
      ],
      "metadata": {
        "colab": {
          "base_uri": "https://localhost:8080/",
          "height": 273
        },
        "id": "qs7blopfEdfy",
        "outputId": "49a8ba1f-7fec-48a9-e05b-139e93e1f390"
      },
      "execution_count": 20,
      "outputs": [
        {
          "output_type": "execute_result",
          "data": {
            "text/plain": [
              "   department_Finance  department_HR  department_Legal  department_Operations  \\\n",
              "0                   0              0                 0                      0   \n",
              "1                   0              0                 0                      1   \n",
              "2                   0              0                 0                      0   \n",
              "3                   0              0                 0                      0   \n",
              "4                   0              0                 0                      0   \n",
              "\n",
              "   department_Procurement  department_R&D  department_Sales & Marketing  \\\n",
              "0                       0               0                             1   \n",
              "1                       0               0                             0   \n",
              "2                       0               0                             1   \n",
              "3                       0               0                             1   \n",
              "4                       0               0                             0   \n",
              "\n",
              "   department_Technology  region_region_10  region_region_11  ...  \\\n",
              "0                      0                 0                 0  ...   \n",
              "1                      0                 0                 0  ...   \n",
              "2                      0                 0                 0  ...   \n",
              "3                      0                 0                 0  ...   \n",
              "4                      1                 0                 0  ...   \n",
              "\n",
              "   region_region_5  region_region_6  region_region_7  region_region_8  \\\n",
              "0                0                0                1                0   \n",
              "1                0                0                0                0   \n",
              "2                0                0                0                0   \n",
              "3                0                0                0                0   \n",
              "4                0                0                0                0   \n",
              "\n",
              "   region_region_9  education_Below Secondary  education_Master's & above  \\\n",
              "0                0                          0                           1   \n",
              "1                0                          0                           0   \n",
              "2                0                          0                           0   \n",
              "3                0                          0                           0   \n",
              "4                0                          0                           0   \n",
              "\n",
              "   gender_m  recruitment_channel_referred  recruitment_channel_sourcing  \n",
              "0         0                             0                             1  \n",
              "1         1                             0                             0  \n",
              "2         1                             0                             1  \n",
              "3         1                             0                             0  \n",
              "4         1                             0                             0  \n",
              "\n",
              "[5 rows x 46 columns]"
            ],
            "text/html": [
              "\n",
              "  <div id=\"df-781aede5-385e-4a7b-98ab-b7a8ae176640\" class=\"colab-df-container\">\n",
              "    <div>\n",
              "<style scoped>\n",
              "    .dataframe tbody tr th:only-of-type {\n",
              "        vertical-align: middle;\n",
              "    }\n",
              "\n",
              "    .dataframe tbody tr th {\n",
              "        vertical-align: top;\n",
              "    }\n",
              "\n",
              "    .dataframe thead th {\n",
              "        text-align: right;\n",
              "    }\n",
              "</style>\n",
              "<table border=\"1\" class=\"dataframe\">\n",
              "  <thead>\n",
              "    <tr style=\"text-align: right;\">\n",
              "      <th></th>\n",
              "      <th>department_Finance</th>\n",
              "      <th>department_HR</th>\n",
              "      <th>department_Legal</th>\n",
              "      <th>department_Operations</th>\n",
              "      <th>department_Procurement</th>\n",
              "      <th>department_R&amp;D</th>\n",
              "      <th>department_Sales &amp; Marketing</th>\n",
              "      <th>department_Technology</th>\n",
              "      <th>region_region_10</th>\n",
              "      <th>region_region_11</th>\n",
              "      <th>...</th>\n",
              "      <th>region_region_5</th>\n",
              "      <th>region_region_6</th>\n",
              "      <th>region_region_7</th>\n",
              "      <th>region_region_8</th>\n",
              "      <th>region_region_9</th>\n",
              "      <th>education_Below Secondary</th>\n",
              "      <th>education_Master's &amp; above</th>\n",
              "      <th>gender_m</th>\n",
              "      <th>recruitment_channel_referred</th>\n",
              "      <th>recruitment_channel_sourcing</th>\n",
              "    </tr>\n",
              "  </thead>\n",
              "  <tbody>\n",
              "    <tr>\n",
              "      <th>0</th>\n",
              "      <td>0</td>\n",
              "      <td>0</td>\n",
              "      <td>0</td>\n",
              "      <td>0</td>\n",
              "      <td>0</td>\n",
              "      <td>0</td>\n",
              "      <td>1</td>\n",
              "      <td>0</td>\n",
              "      <td>0</td>\n",
              "      <td>0</td>\n",
              "      <td>...</td>\n",
              "      <td>0</td>\n",
              "      <td>0</td>\n",
              "      <td>1</td>\n",
              "      <td>0</td>\n",
              "      <td>0</td>\n",
              "      <td>0</td>\n",
              "      <td>1</td>\n",
              "      <td>0</td>\n",
              "      <td>0</td>\n",
              "      <td>1</td>\n",
              "    </tr>\n",
              "    <tr>\n",
              "      <th>1</th>\n",
              "      <td>0</td>\n",
              "      <td>0</td>\n",
              "      <td>0</td>\n",
              "      <td>1</td>\n",
              "      <td>0</td>\n",
              "      <td>0</td>\n",
              "      <td>0</td>\n",
              "      <td>0</td>\n",
              "      <td>0</td>\n",
              "      <td>0</td>\n",
              "      <td>...</td>\n",
              "      <td>0</td>\n",
              "      <td>0</td>\n",
              "      <td>0</td>\n",
              "      <td>0</td>\n",
              "      <td>0</td>\n",
              "      <td>0</td>\n",
              "      <td>0</td>\n",
              "      <td>1</td>\n",
              "      <td>0</td>\n",
              "      <td>0</td>\n",
              "    </tr>\n",
              "    <tr>\n",
              "      <th>2</th>\n",
              "      <td>0</td>\n",
              "      <td>0</td>\n",
              "      <td>0</td>\n",
              "      <td>0</td>\n",
              "      <td>0</td>\n",
              "      <td>0</td>\n",
              "      <td>1</td>\n",
              "      <td>0</td>\n",
              "      <td>0</td>\n",
              "      <td>0</td>\n",
              "      <td>...</td>\n",
              "      <td>0</td>\n",
              "      <td>0</td>\n",
              "      <td>0</td>\n",
              "      <td>0</td>\n",
              "      <td>0</td>\n",
              "      <td>0</td>\n",
              "      <td>0</td>\n",
              "      <td>1</td>\n",
              "      <td>0</td>\n",
              "      <td>1</td>\n",
              "    </tr>\n",
              "    <tr>\n",
              "      <th>3</th>\n",
              "      <td>0</td>\n",
              "      <td>0</td>\n",
              "      <td>0</td>\n",
              "      <td>0</td>\n",
              "      <td>0</td>\n",
              "      <td>0</td>\n",
              "      <td>1</td>\n",
              "      <td>0</td>\n",
              "      <td>0</td>\n",
              "      <td>0</td>\n",
              "      <td>...</td>\n",
              "      <td>0</td>\n",
              "      <td>0</td>\n",
              "      <td>0</td>\n",
              "      <td>0</td>\n",
              "      <td>0</td>\n",
              "      <td>0</td>\n",
              "      <td>0</td>\n",
              "      <td>1</td>\n",
              "      <td>0</td>\n",
              "      <td>0</td>\n",
              "    </tr>\n",
              "    <tr>\n",
              "      <th>4</th>\n",
              "      <td>0</td>\n",
              "      <td>0</td>\n",
              "      <td>0</td>\n",
              "      <td>0</td>\n",
              "      <td>0</td>\n",
              "      <td>0</td>\n",
              "      <td>0</td>\n",
              "      <td>1</td>\n",
              "      <td>0</td>\n",
              "      <td>0</td>\n",
              "      <td>...</td>\n",
              "      <td>0</td>\n",
              "      <td>0</td>\n",
              "      <td>0</td>\n",
              "      <td>0</td>\n",
              "      <td>0</td>\n",
              "      <td>0</td>\n",
              "      <td>0</td>\n",
              "      <td>1</td>\n",
              "      <td>0</td>\n",
              "      <td>0</td>\n",
              "    </tr>\n",
              "  </tbody>\n",
              "</table>\n",
              "<p>5 rows × 46 columns</p>\n",
              "</div>\n",
              "    <div class=\"colab-df-buttons\">\n",
              "\n",
              "  <div class=\"colab-df-container\">\n",
              "    <button class=\"colab-df-convert\" onclick=\"convertToInteractive('df-781aede5-385e-4a7b-98ab-b7a8ae176640')\"\n",
              "            title=\"Convert this dataframe to an interactive table.\"\n",
              "            style=\"display:none;\">\n",
              "\n",
              "  <svg xmlns=\"http://www.w3.org/2000/svg\" height=\"24px\" viewBox=\"0 -960 960 960\">\n",
              "    <path d=\"M120-120v-720h720v720H120Zm60-500h600v-160H180v160Zm220 220h160v-160H400v160Zm0 220h160v-160H400v160ZM180-400h160v-160H180v160Zm440 0h160v-160H620v160ZM180-180h160v-160H180v160Zm440 0h160v-160H620v160Z\"/>\n",
              "  </svg>\n",
              "    </button>\n",
              "\n",
              "  <style>\n",
              "    .colab-df-container {\n",
              "      display:flex;\n",
              "      gap: 12px;\n",
              "    }\n",
              "\n",
              "    .colab-df-convert {\n",
              "      background-color: #E8F0FE;\n",
              "      border: none;\n",
              "      border-radius: 50%;\n",
              "      cursor: pointer;\n",
              "      display: none;\n",
              "      fill: #1967D2;\n",
              "      height: 32px;\n",
              "      padding: 0 0 0 0;\n",
              "      width: 32px;\n",
              "    }\n",
              "\n",
              "    .colab-df-convert:hover {\n",
              "      background-color: #E2EBFA;\n",
              "      box-shadow: 0px 1px 2px rgba(60, 64, 67, 0.3), 0px 1px 3px 1px rgba(60, 64, 67, 0.15);\n",
              "      fill: #174EA6;\n",
              "    }\n",
              "\n",
              "    .colab-df-buttons div {\n",
              "      margin-bottom: 4px;\n",
              "    }\n",
              "\n",
              "    [theme=dark] .colab-df-convert {\n",
              "      background-color: #3B4455;\n",
              "      fill: #D2E3FC;\n",
              "    }\n",
              "\n",
              "    [theme=dark] .colab-df-convert:hover {\n",
              "      background-color: #434B5C;\n",
              "      box-shadow: 0px 1px 3px 1px rgba(0, 0, 0, 0.15);\n",
              "      filter: drop-shadow(0px 1px 2px rgba(0, 0, 0, 0.3));\n",
              "      fill: #FFFFFF;\n",
              "    }\n",
              "  </style>\n",
              "\n",
              "    <script>\n",
              "      const buttonEl =\n",
              "        document.querySelector('#df-781aede5-385e-4a7b-98ab-b7a8ae176640 button.colab-df-convert');\n",
              "      buttonEl.style.display =\n",
              "        google.colab.kernel.accessAllowed ? 'block' : 'none';\n",
              "\n",
              "      async function convertToInteractive(key) {\n",
              "        const element = document.querySelector('#df-781aede5-385e-4a7b-98ab-b7a8ae176640');\n",
              "        const dataTable =\n",
              "          await google.colab.kernel.invokeFunction('convertToInteractive',\n",
              "                                                    [key], {});\n",
              "        if (!dataTable) return;\n",
              "\n",
              "        const docLinkHtml = 'Like what you see? Visit the ' +\n",
              "          '<a target=\"_blank\" href=https://colab.research.google.com/notebooks/data_table.ipynb>data table notebook</a>'\n",
              "          + ' to learn more about interactive tables.';\n",
              "        element.innerHTML = '';\n",
              "        dataTable['output_type'] = 'display_data';\n",
              "        await google.colab.output.renderOutput(dataTable, element);\n",
              "        const docLink = document.createElement('div');\n",
              "        docLink.innerHTML = docLinkHtml;\n",
              "        element.appendChild(docLink);\n",
              "      }\n",
              "    </script>\n",
              "  </div>\n",
              "\n",
              "\n",
              "<div id=\"df-5c5121d9-89cf-47e8-88e8-c5e8f232b19c\">\n",
              "  <button class=\"colab-df-quickchart\" onclick=\"quickchart('df-5c5121d9-89cf-47e8-88e8-c5e8f232b19c')\"\n",
              "            title=\"Suggest charts.\"\n",
              "            style=\"display:none;\">\n",
              "\n",
              "<svg xmlns=\"http://www.w3.org/2000/svg\" height=\"24px\"viewBox=\"0 0 24 24\"\n",
              "     width=\"24px\">\n",
              "    <g>\n",
              "        <path d=\"M19 3H5c-1.1 0-2 .9-2 2v14c0 1.1.9 2 2 2h14c1.1 0 2-.9 2-2V5c0-1.1-.9-2-2-2zM9 17H7v-7h2v7zm4 0h-2V7h2v10zm4 0h-2v-4h2v4z\"/>\n",
              "    </g>\n",
              "</svg>\n",
              "  </button>\n",
              "\n",
              "<style>\n",
              "  .colab-df-quickchart {\n",
              "    background-color: #E8F0FE;\n",
              "    border: none;\n",
              "    border-radius: 50%;\n",
              "    cursor: pointer;\n",
              "    display: none;\n",
              "    fill: #1967D2;\n",
              "    height: 32px;\n",
              "    padding: 0 0 0 0;\n",
              "    width: 32px;\n",
              "  }\n",
              "\n",
              "  .colab-df-quickchart:hover {\n",
              "    background-color: #E2EBFA;\n",
              "    box-shadow: 0px 1px 2px rgba(60, 64, 67, 0.3), 0px 1px 3px 1px rgba(60, 64, 67, 0.15);\n",
              "    fill: #174EA6;\n",
              "  }\n",
              "\n",
              "  [theme=dark] .colab-df-quickchart {\n",
              "    background-color: #3B4455;\n",
              "    fill: #D2E3FC;\n",
              "  }\n",
              "\n",
              "  [theme=dark] .colab-df-quickchart:hover {\n",
              "    background-color: #434B5C;\n",
              "    box-shadow: 0px 1px 3px 1px rgba(0, 0, 0, 0.15);\n",
              "    filter: drop-shadow(0px 1px 2px rgba(0, 0, 0, 0.3));\n",
              "    fill: #FFFFFF;\n",
              "  }\n",
              "</style>\n",
              "\n",
              "  <script>\n",
              "    async function quickchart(key) {\n",
              "      const charts = await google.colab.kernel.invokeFunction(\n",
              "          'suggestCharts', [key], {});\n",
              "    }\n",
              "    (() => {\n",
              "      let quickchartButtonEl =\n",
              "        document.querySelector('#df-5c5121d9-89cf-47e8-88e8-c5e8f232b19c button');\n",
              "      quickchartButtonEl.style.display =\n",
              "        google.colab.kernel.accessAllowed ? 'block' : 'none';\n",
              "    })();\n",
              "  </script>\n",
              "</div>\n",
              "    </div>\n",
              "  </div>\n"
            ]
          },
          "metadata": {},
          "execution_count": 20
        }
      ]
    },
    {
      "cell_type": "code",
      "source": [
        "#concat newly created columns with original dataframe\n",
        "data=pd.concat([data,ds],axis=1)\n",
        "#Drop original columns\n",
        "data.drop(categorical_cols,axis=1,inplace=True)"
      ],
      "metadata": {
        "id": "hZV0EqY0EEK2"
      },
      "execution_count": 21,
      "outputs": []
    },
    {
      "cell_type": "markdown",
      "source": [
        "**Splitting Data into test and train**"
      ],
      "metadata": {
        "id": "WBiRrbCmEvqR"
      }
    },
    {
      "cell_type": "code",
      "source": [
        "from sklearn.model_selection import train_test_split\n",
        "#split data into dependent variables(X) and independent variable(y) that we would predict\n",
        "Y = data.pop(\"is_promoted\")\n",
        "X = data"
      ],
      "metadata": {
        "id": "ZhkNhsnfzVPq"
      },
      "execution_count": 22,
      "outputs": []
    },
    {
      "cell_type": "code",
      "source": [
        "#Let’s split X and y using Train test split\n",
        "X_train,X_test,Y_train,Y_test = train_test_split(X,Y,train_size=0.8,random_state=42)\n",
        "#get shape of train and test data\n",
        "print(\"train size X : \",X_train.shape)\n",
        "print(\"train size y : \",Y_train.shape)\n",
        "print(\"test size X : \",X_test.shape)\n",
        "print(\"test size y : \",Y_test.shape)"
      ],
      "metadata": {
        "colab": {
          "base_uri": "https://localhost:8080/"
        },
        "id": "M8CEKIiEKfU2",
        "outputId": "b163a6c5-fdd6-4f81-fc06-5e7d003a9ea2"
      },
      "execution_count": 23,
      "outputs": [
        {
          "output_type": "stream",
          "name": "stdout",
          "text": [
            "train size X :  (43846, 53)\n",
            "train size y :  (43846,)\n",
            "test size X :  (10962, 53)\n",
            "test size y :  (10962,)\n"
          ]
        }
      ]
    },
    {
      "cell_type": "code",
      "source": [
        "#check for distribution of labels\n",
        "#Our 91% of data is \"not promoted\" while \"9%\" oif data is of employees who are promoted\n",
        "Y_train.value_counts(normalize=True)"
      ],
      "metadata": {
        "colab": {
          "base_uri": "https://localhost:8080/"
        },
        "id": "S2v6kew-z-Lo",
        "outputId": "92abbb40-96bb-4bca-e088-be2af8615c33"
      },
      "execution_count": 24,
      "outputs": [
        {
          "output_type": "execute_result",
          "data": {
            "text/plain": [
              "0    0.914245\n",
              "1    0.085755\n",
              "Name: is_promoted, dtype: float64"
            ]
          },
          "metadata": {},
          "execution_count": 24
        }
      ]
    },
    {
      "cell_type": "code",
      "source": [
        "#check for distribution of labels\n",
        "Y_train.value_counts()\n",
        "\n",
        "#Unbalanced classification problem"
      ],
      "metadata": {
        "colab": {
          "base_uri": "https://localhost:8080/"
        },
        "id": "NU7ra-NT78dB",
        "outputId": "2a41468e-d1ea-43dc-e412-e0c6fbd0a51f"
      },
      "execution_count": 25,
      "outputs": [
        {
          "output_type": "execute_result",
          "data": {
            "text/plain": [
              "0    40086\n",
              "1     3760\n",
              "Name: is_promoted, dtype: int64"
            ]
          },
          "metadata": {},
          "execution_count": 25
        }
      ]
    },
    {
      "cell_type": "code",
      "source": [
        "#import library\n",
        "from sklearn.linear_model import LogisticRegression\n",
        "#make instance of model with default parameters except class weight\n",
        "#as we will add class weights due to class imbalance problem\n",
        "#lr_basemodel =LogisticRegression(class_weight={0:0.1,1:0.9})\n",
        "lr_basemodel =LogisticRegression()\n",
        "# train model to learn relationships between input and output variables\n",
        "lr_basemodel.fit(X_train,Y_train)"
      ],
      "metadata": {
        "colab": {
          "base_uri": "https://localhost:8080/",
          "height": 74
        },
        "id": "hMWEFcdZ0FaG",
        "outputId": "5e1b476c-9c27-4bef-8aee-9d0840e1a595"
      },
      "execution_count": 26,
      "outputs": [
        {
          "output_type": "execute_result",
          "data": {
            "text/plain": [
              "LogisticRegression()"
            ],
            "text/html": [
              "<style>#sk-container-id-1 {color: black;background-color: white;}#sk-container-id-1 pre{padding: 0;}#sk-container-id-1 div.sk-toggleable {background-color: white;}#sk-container-id-1 label.sk-toggleable__label {cursor: pointer;display: block;width: 100%;margin-bottom: 0;padding: 0.3em;box-sizing: border-box;text-align: center;}#sk-container-id-1 label.sk-toggleable__label-arrow:before {content: \"▸\";float: left;margin-right: 0.25em;color: #696969;}#sk-container-id-1 label.sk-toggleable__label-arrow:hover:before {color: black;}#sk-container-id-1 div.sk-estimator:hover label.sk-toggleable__label-arrow:before {color: black;}#sk-container-id-1 div.sk-toggleable__content {max-height: 0;max-width: 0;overflow: hidden;text-align: left;background-color: #f0f8ff;}#sk-container-id-1 div.sk-toggleable__content pre {margin: 0.2em;color: black;border-radius: 0.25em;background-color: #f0f8ff;}#sk-container-id-1 input.sk-toggleable__control:checked~div.sk-toggleable__content {max-height: 200px;max-width: 100%;overflow: auto;}#sk-container-id-1 input.sk-toggleable__control:checked~label.sk-toggleable__label-arrow:before {content: \"▾\";}#sk-container-id-1 div.sk-estimator input.sk-toggleable__control:checked~label.sk-toggleable__label {background-color: #d4ebff;}#sk-container-id-1 div.sk-label input.sk-toggleable__control:checked~label.sk-toggleable__label {background-color: #d4ebff;}#sk-container-id-1 input.sk-hidden--visually {border: 0;clip: rect(1px 1px 1px 1px);clip: rect(1px, 1px, 1px, 1px);height: 1px;margin: -1px;overflow: hidden;padding: 0;position: absolute;width: 1px;}#sk-container-id-1 div.sk-estimator {font-family: monospace;background-color: #f0f8ff;border: 1px dotted black;border-radius: 0.25em;box-sizing: border-box;margin-bottom: 0.5em;}#sk-container-id-1 div.sk-estimator:hover {background-color: #d4ebff;}#sk-container-id-1 div.sk-parallel-item::after {content: \"\";width: 100%;border-bottom: 1px solid gray;flex-grow: 1;}#sk-container-id-1 div.sk-label:hover label.sk-toggleable__label {background-color: #d4ebff;}#sk-container-id-1 div.sk-serial::before {content: \"\";position: absolute;border-left: 1px solid gray;box-sizing: border-box;top: 0;bottom: 0;left: 50%;z-index: 0;}#sk-container-id-1 div.sk-serial {display: flex;flex-direction: column;align-items: center;background-color: white;padding-right: 0.2em;padding-left: 0.2em;position: relative;}#sk-container-id-1 div.sk-item {position: relative;z-index: 1;}#sk-container-id-1 div.sk-parallel {display: flex;align-items: stretch;justify-content: center;background-color: white;position: relative;}#sk-container-id-1 div.sk-item::before, #sk-container-id-1 div.sk-parallel-item::before {content: \"\";position: absolute;border-left: 1px solid gray;box-sizing: border-box;top: 0;bottom: 0;left: 50%;z-index: -1;}#sk-container-id-1 div.sk-parallel-item {display: flex;flex-direction: column;z-index: 1;position: relative;background-color: white;}#sk-container-id-1 div.sk-parallel-item:first-child::after {align-self: flex-end;width: 50%;}#sk-container-id-1 div.sk-parallel-item:last-child::after {align-self: flex-start;width: 50%;}#sk-container-id-1 div.sk-parallel-item:only-child::after {width: 0;}#sk-container-id-1 div.sk-dashed-wrapped {border: 1px dashed gray;margin: 0 0.4em 0.5em 0.4em;box-sizing: border-box;padding-bottom: 0.4em;background-color: white;}#sk-container-id-1 div.sk-label label {font-family: monospace;font-weight: bold;display: inline-block;line-height: 1.2em;}#sk-container-id-1 div.sk-label-container {text-align: center;}#sk-container-id-1 div.sk-container {/* jupyter's `normalize.less` sets `[hidden] { display: none; }` but bootstrap.min.css set `[hidden] { display: none !important; }` so we also need the `!important` here to be able to override the default hidden behavior on the sphinx rendered scikit-learn.org. See: https://github.com/scikit-learn/scikit-learn/issues/21755 */display: inline-block !important;position: relative;}#sk-container-id-1 div.sk-text-repr-fallback {display: none;}</style><div id=\"sk-container-id-1\" class=\"sk-top-container\"><div class=\"sk-text-repr-fallback\"><pre>LogisticRegression()</pre><b>In a Jupyter environment, please rerun this cell to show the HTML representation or trust the notebook. <br />On GitHub, the HTML representation is unable to render, please try loading this page with nbviewer.org.</b></div><div class=\"sk-container\" hidden><div class=\"sk-item\"><div class=\"sk-estimator sk-toggleable\"><input class=\"sk-toggleable__control sk-hidden--visually\" id=\"sk-estimator-id-1\" type=\"checkbox\" checked><label for=\"sk-estimator-id-1\" class=\"sk-toggleable__label sk-toggleable__label-arrow\">LogisticRegression</label><div class=\"sk-toggleable__content\"><pre>LogisticRegression()</pre></div></div></div></div></div>"
            ]
          },
          "metadata": {},
          "execution_count": 26
        }
      ]
    },
    {
      "cell_type": "code",
      "source": [
        "y_pred_test = lr_basemodel.predict(X_test)\n",
        "ConfusionMatrix = confusion_matrix(Y_test, y_pred_test)\n",
        "print(ConfusionMatrix)\n",
        "\n",
        "disp = ConfusionMatrixDisplay(confusion_matrix=ConfusionMatrix, display_labels=lr_basemodel.classes_)\n",
        "disp.plot()\n",
        "plt.show()\n",
        "\n",
        "#Change it from column to rows"
      ],
      "metadata": {
        "colab": {
          "base_uri": "https://localhost:8080/",
          "height": 490
        },
        "id": "BSLZG8vTM30_",
        "outputId": "058eacc8-1d62-4618-f072-c1082d5693f0"
      },
      "execution_count": 27,
      "outputs": [
        {
          "output_type": "stream",
          "name": "stdout",
          "text": [
            "[[10002    52]\n",
            " [  802   106]]\n"
          ]
        },
        {
          "output_type": "display_data",
          "data": {
            "text/plain": [
              "<Figure size 640x480 with 2 Axes>"
            ],
            "image/png": "[encoded data removed]"
          },
          "metadata": {}
        }
      ]
    },
    {
      "cell_type": "code",
      "source": [
        " #Accuracy score\n",
        "print(\"Accuracy score  test dataset:  t\", accuracy_score(Y_test,y_pred_test))\n",
        "#Precision score\n",
        "print(\"precision score  test dataset:  t\", precision_score(Y_test,y_pred_test))\n",
        "#Recall Score\n",
        "print(\"Recall score  test dataset:  t\", recall_score(Y_test,y_pred_test))"
      ],
      "metadata": {
        "colab": {
          "base_uri": "https://localhost:8080/"
        },
        "id": "b5nmYZ8w2ku0",
        "outputId": "269105b9-4f76-4665-aaeb-b576e08f9333"
      },
      "execution_count": 28,
      "outputs": [
        {
          "output_type": "stream",
          "name": "stdout",
          "text": [
            "Accuracy score  test dataset:  t 0.9220945083014048\n",
            "precision score  test dataset:  t 0.6708860759493671\n",
            "Recall score  test dataset:  t 0.11674008810572688\n"
          ]
        }
      ]
    },
    {
      "cell_type": "code",
      "source": [
        "fpr, tpr, thresholds = roc_curve(Y_test, lr_basemodel.predict_proba(X_test)[:,1])\n",
        "auc_var=auc(fpr, tpr)\n",
        "\n",
        "plt.figure()\n",
        "plt.plot(fpr,tpr,label='Logistic Regression (area=%0.2f)' % auc_var)\n",
        "plt.plot([0,1],[0,1],'r--')\n",
        "plt.xlim([0.0,1.0])\n",
        "plt.ylim([0.0,1.05])\n",
        "plt.xlabel('False Positive Rate')\n",
        "plt.ylabel('True Positive Rate')\n",
        "plt.title('ROC Curve')\n",
        "plt.legend(loc='lower right')\n",
        "plt.show()"
      ],
      "metadata": {
        "colab": {
          "base_uri": "https://localhost:8080/",
          "height": 472
        },
        "id": "UHlihiAD00EQ",
        "outputId": "b39d8a8a-5ea4-4c0a-83fe-d8c4b7825ef5"
      },
      "execution_count": 29,
      "outputs": [
        {
          "output_type": "display_data",
          "data": {
            "text/plain": [
              "<Figure size 640x480 with 1 Axes>"
            ],
            "image/png": "[encoded data removed]"
          },
          "metadata": {}
        }
      ]
    },
    {
      "cell_type": "markdown",
      "source": [
        "# **Giving Different Weight to each Class**"
      ],
      "metadata": {
        "id": "JHi5lKbR11QM"
      }
    },
    {
      "cell_type": "code",
      "source": [
        "#import library\n",
        "from sklearn.linear_model import LogisticRegression\n",
        "#make instance of model with default parameters except class weight\n",
        "#as we will add class weights due to class imbalance problem\n",
        "lr_diff_weight_model =LogisticRegression(class_weight={0:1,1:10})\n",
        "# train model to learn relationships between input and output variables\n",
        "lr_diff_weight_model.fit(X_train,Y_train)"
      ],
      "metadata": {
        "colab": {
          "base_uri": "https://localhost:8080/",
          "height": 74
        },
        "id": "fz9e-yQP1qwV",
        "outputId": "8a50d359-d1a9-4d31-b65d-a0627fd5f09f"
      },
      "execution_count": 30,
      "outputs": [
        {
          "output_type": "execute_result",
          "data": {
            "text/plain": [
              "LogisticRegression(class_weight={0: 1, 1: 10})"
            ],
            "text/html": [
              "<style>#sk-container-id-2 {color: black;background-color: white;}#sk-container-id-2 pre{padding: 0;}#sk-container-id-2 div.sk-toggleable {background-color: white;}#sk-container-id-2 label.sk-toggleable__label {cursor: pointer;display: block;width: 100%;margin-bottom: 0;padding: 0.3em;box-sizing: border-box;text-align: center;}#sk-container-id-2 label.sk-toggleable__label-arrow:before {content: \"▸\";float: left;margin-right: 0.25em;color: #696969;}#sk-container-id-2 label.sk-toggleable__label-arrow:hover:before {color: black;}#sk-container-id-2 div.sk-estimator:hover label.sk-toggleable__label-arrow:before {color: black;}#sk-container-id-2 div.sk-toggleable__content {max-height: 0;max-width: 0;overflow: hidden;text-align: left;background-color: #f0f8ff;}#sk-container-id-2 div.sk-toggleable__content pre {margin: 0.2em;color: black;border-radius: 0.25em;background-color: #f0f8ff;}#sk-container-id-2 input.sk-toggleable__control:checked~div.sk-toggleable__content {max-height: 200px;max-width: 100%;overflow: auto;}#sk-container-id-2 input.sk-toggleable__control:checked~label.sk-toggleable__label-arrow:before {content: \"▾\";}#sk-container-id-2 div.sk-estimator input.sk-toggleable__control:checked~label.sk-toggleable__label {background-color: #d4ebff;}#sk-container-id-2 div.sk-label input.sk-toggleable__control:checked~label.sk-toggleable__label {background-color: #d4ebff;}#sk-container-id-2 input.sk-hidden--visually {border: 0;clip: rect(1px 1px 1px 1px);clip: rect(1px, 1px, 1px, 1px);height: 1px;margin: -1px;overflow: hidden;padding: 0;position: absolute;width: 1px;}#sk-container-id-2 div.sk-estimator {font-family: monospace;background-color: #f0f8ff;border: 1px dotted black;border-radius: 0.25em;box-sizing: border-box;margin-bottom: 0.5em;}#sk-container-id-2 div.sk-estimator:hover {background-color: #d4ebff;}#sk-container-id-2 div.sk-parallel-item::after {content: \"\";width: 100%;border-bottom: 1px solid gray;flex-grow: 1;}#sk-container-id-2 div.sk-label:hover label.sk-toggleable__label {background-color: #d4ebff;}#sk-container-id-2 div.sk-serial::before {content: \"\";position: absolute;border-left: 1px solid gray;box-sizing: border-box;top: 0;bottom: 0;left: 50%;z-index: 0;}#sk-container-id-2 div.sk-serial {display: flex;flex-direction: column;align-items: center;background-color: white;padding-right: 0.2em;padding-left: 0.2em;position: relative;}#sk-container-id-2 div.sk-item {position: relative;z-index: 1;}#sk-container-id-2 div.sk-parallel {display: flex;align-items: stretch;justify-content: center;background-color: white;position: relative;}#sk-container-id-2 div.sk-item::before, #sk-container-id-2 div.sk-parallel-item::before {content: \"\";position: absolute;border-left: 1px solid gray;box-sizing: border-box;top: 0;bottom: 0;left: 50%;z-index: -1;}#sk-container-id-2 div.sk-parallel-item {display: flex;flex-direction: column;z-index: 1;position: relative;background-color: white;}#sk-container-id-2 div.sk-parallel-item:first-child::after {align-self: flex-end;width: 50%;}#sk-container-id-2 div.sk-parallel-item:last-child::after {align-self: flex-start;width: 50%;}#sk-container-id-2 div.sk-parallel-item:only-child::after {width: 0;}#sk-container-id-2 div.sk-dashed-wrapped {border: 1px dashed gray;margin: 0 0.4em 0.5em 0.4em;box-sizing: border-box;padding-bottom: 0.4em;background-color: white;}#sk-container-id-2 div.sk-label label {font-family: monospace;font-weight: bold;display: inline-block;line-height: 1.2em;}#sk-container-id-2 div.sk-label-container {text-align: center;}#sk-container-id-2 div.sk-container {/* jupyter's `normalize.less` sets `[hidden] { display: none; }` but bootstrap.min.css set `[hidden] { display: none !important; }` so we also need the `!important` here to be able to override the default hidden behavior on the sphinx rendered scikit-learn.org. See: https://github.com/scikit-learn/scikit-learn/issues/21755 */display: inline-block !important;position: relative;}#sk-container-id-2 div.sk-text-repr-fallback {display: none;}</style><div id=\"sk-container-id-2\" class=\"sk-top-container\"><div class=\"sk-text-repr-fallback\"><pre>LogisticRegression(class_weight={0: 1, 1: 10})</pre><b>In a Jupyter environment, please rerun this cell to show the HTML representation or trust the notebook. <br />On GitHub, the HTML representation is unable to render, please try loading this page with nbviewer.org.</b></div><div class=\"sk-container\" hidden><div class=\"sk-item\"><div class=\"sk-estimator sk-toggleable\"><input class=\"sk-toggleable__control sk-hidden--visually\" id=\"sk-estimator-id-2\" type=\"checkbox\" checked><label for=\"sk-estimator-id-2\" class=\"sk-toggleable__label sk-toggleable__label-arrow\">LogisticRegression</label><div class=\"sk-toggleable__content\"><pre>LogisticRegression(class_weight={0: 1, 1: 10})</pre></div></div></div></div></div>"
            ]
          },
          "metadata": {},
          "execution_count": 30
        }
      ]
    },
    {
      "cell_type": "markdown",
      "source": [
        "![weights.PNG](data:image/png;base64,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)"
      ],
      "metadata": {
        "id": "Eu4lAggd7NN0"
      }
    },
    {
      "cell_type": "markdown",
      "source": [
        "![Capture.PNG](data:image/png;base64,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)"
      ],
      "metadata": {
        "id": "n4vO_4wS7xOQ"
      }
    },
    {
      "cell_type": "code",
      "source": [
        "y_pred_test = lr_diff_weight_model.predict(X_test)\n",
        "ConfusionMatrix = confusion_matrix(Y_test, y_pred_test)\n",
        "print(ConfusionMatrix)\n",
        "\n",
        "disp = ConfusionMatrixDisplay(confusion_matrix=ConfusionMatrix, display_labels=lr_diff_weight_model.classes_)\n",
        "disp.plot()\n",
        "plt.show()"
      ],
      "metadata": {
        "colab": {
          "base_uri": "https://localhost:8080/",
          "height": 484
        },
        "id": "bjbmSfN22HCh",
        "outputId": "5697c2d8-36cc-46d1-dcaa-56d5ab7fd2e7"
      },
      "execution_count": 31,
      "outputs": [
        {
          "output_type": "stream",
          "name": "stdout",
          "text": [
            "[[7422 2632]\n",
            " [ 207  701]]\n"
          ]
        },
        {
          "output_type": "display_data",
          "data": {
            "text/plain": [
              "<Figure size 640x480 with 2 Axes>"
            ],
            "image/png": "[encoded data removed]"
          },
          "metadata": {}
        }
      ]
    },
    {
      "cell_type": "code",
      "source": [
        "# create onfusion matrix\n",
        "y_pred_prob_test = lr_diff_weight_model.predict_proba(X_test)[:, 1]\n",
        "y_pred_test = lr_diff_weight_model.predict(X_test)"
      ],
      "metadata": {
        "id": "UB7G8uJG2Ypk"
      },
      "execution_count": 32,
      "outputs": []
    },
    {
      "cell_type": "code",
      "source": [
        "#Accuracy score\n",
        "print(\"Accuracy score  test dataset:  t\", accuracy_score(Y_test,y_pred_test))\n",
        "#Precision score\n",
        "print(\"precision score  test dataset:  t\", precision_score(Y_test,y_pred_test))\n",
        "#Recall Score\n",
        "print(\"Recall score  test dataset:  t\", recall_score(Y_test,y_pred_test))"
      ],
      "metadata": {
        "colab": {
          "base_uri": "https://localhost:8080/"
        },
        "id": "a6tNs4Cf2oa6",
        "outputId": "375850c3-db18-4a85-935a-5cb9646b1209"
      },
      "execution_count": 33,
      "outputs": [
        {
          "output_type": "stream",
          "name": "stdout",
          "text": [
            "Accuracy score  test dataset:  t 0.7410144134282065\n",
            "precision score  test dataset:  t 0.21032103210321032\n",
            "Recall score  test dataset:  t 0.7720264317180616\n"
          ]
        }
      ]
    },
    {
      "cell_type": "code",
      "source": [
        "fpr_2, tpr_2, thresholds_2 = roc_curve(Y_test, lr_diff_weight_model.predict_proba(X_test)[:,1])\n",
        "auc_var_2=auc(fpr_2, tpr_2)\n",
        "\n",
        "plt.figure()\n",
        "plt.plot(fpr,tpr,label='Logistic Regression 1 (area=%0.2f)' % auc_var)\n",
        "plt.plot(fpr_2,tpr_2,label='Logistic Regression 2 (area=%0.2f)' % auc_var_2)\n",
        "plt.plot([0,1],[0,1],'r--')\n",
        "plt.xlim([0.0,1.0])\n",
        "plt.ylim([0.0,1.05])\n",
        "plt.xlabel('False Positive Rate')\n",
        "plt.ylabel('True Positive Rate')\n",
        "plt.title('ROC Curve')\n",
        "plt.legend(loc='lower right')\n",
        "plt.show()"
      ],
      "metadata": {
        "colab": {
          "base_uri": "https://localhost:8080/",
          "height": 472
        },
        "id": "nDSCuJ_922Uk",
        "outputId": "5e3444e0-281f-4ad2-ab56-1ed040a71f97"
      },
      "execution_count": 34,
      "outputs": [
        {
          "output_type": "display_data",
          "data": {
            "text/plain": [
              "<Figure size 640x480 with 1 Axes>"
            ],
            "image/png": "[encoded data removed]"
          },
          "metadata": {}
        }
      ]
    },
    {
      "cell_type": "code",
      "source": [
        "logit_model = sm.Logit(Y_train, X_train)\n",
        "logistic_results = logit_model.fit()"
      ],
      "metadata": {
        "colab": {
          "base_uri": "https://localhost:8080/"
        },
        "id": "Zm9IguTGxjzV",
        "outputId": "be812b09-d74d-4b13-be83-d359b5a49704"
      },
      "execution_count": 35,
      "outputs": [
        {
          "output_type": "stream",
          "name": "stdout",
          "text": [
            "Warning: Maximum number of iterations has been exceeded.\n",
            "         Current function value: 0.249499\n",
            "         Iterations: 35\n"
          ]
        },
        {
          "output_type": "stream",
          "name": "stderr",
          "text": [
            "/usr/local/lib/python3.10/dist-packages/statsmodels/base/model.py:607: ConvergenceWarning: Maximum Likelihood optimization failed to converge. Check mle_retvals\n",
            "  warnings.warn(\"Maximum Likelihood optimization failed to \"\n"
          ]
        }
      ]
    },
    {
      "cell_type": "code",
      "source": [
        "print(logistic_results.summary2())"
      ],
      "metadata": {
        "id": "zyuCKXAax-0M",
        "colab": {
          "base_uri": "https://localhost:8080/"
        },
        "outputId": "bf304ec4-63da-4b41-a9bb-a4d8c2386267"
      },
      "execution_count": 36,
      "outputs": [
        {
          "output_type": "stream",
          "name": "stdout",
          "text": [
            "                                    Results: Logit\n",
            "=======================================================================================\n",
            "Model:                      Logit                   Method:                  MLE       \n",
            "Dependent Variable:         is_promoted             Pseudo R-squared:        0.147     \n",
            "Date:                       2023-08-20 09:50        AIC:                     21985.0599\n",
            "No. Observations:           43846                   BIC:                     22445.5471\n",
            "Df Model:                   52                      Log-Likelihood:          -10940.   \n",
            "Df Residuals:               43793                   LL-Null:                 -12830.   \n",
            "Converged:                  0.0000                  LLR p-value:             0.0000    \n",
            "No. Iterations:             35.0000                 Scale:                   1.0000    \n",
            "---------------------------------------------------------------------------------------\n",
            "                              Coef.    Std.Err.     z     P>|z|     [0.025     0.975]  \n",
            "---------------------------------------------------------------------------------------\n",
            "no_of_trainings               -0.5648     0.0422 -13.3792 0.0000     -0.6475    -0.4821\n",
            "age                           -0.1058     0.0042 -25.2969 0.0000     -0.1140    -0.0976\n",
            "previous_year_rating           0.1036     0.0131   7.8882 0.0000      0.0779     0.1293\n",
            "length_of_service              0.0770     0.0066  11.6089 0.0000      0.0640     0.0900\n",
            "KPIs_met >80%                  1.2497     0.0390  32.0298 0.0000      1.1733     1.3262\n",
            "awards_won?                    1.9345     0.0736  26.2839 0.0000      1.7902     2.0787\n",
            "avg_training_score             0.0413     0.0017  23.8581 0.0000      0.0379     0.0447\n",
            "department_Finance             0.1709     0.1019   1.6777 0.0934     -0.0287     0.3705\n",
            "department_HR                  0.2206     0.1238   1.7811 0.0749     -0.0221     0.4633\n",
            "department_Legal              -0.0592     0.1761  -0.3362 0.7367     -0.4045     0.2860\n",
            "department_Operations          0.4506     0.0709   6.3540 0.0000      0.3116     0.5896\n",
            "department_Procurement         0.1823     0.0716   2.5480 0.0108      0.0421     0.3226\n",
            "department_R&D                -0.9285     0.1558  -5.9613 0.0000     -1.2338    -0.6232\n",
            "department_Sales & Marketing   0.6943     0.0726   9.5673 0.0000      0.5521     0.8366\n",
            "department_Technology         -0.1013     0.0682  -1.4852 0.1375     -0.2350     0.0324\n",
            "region_region_10              -2.7445     0.1988 -13.8020 0.0000     -3.1342    -2.3548\n",
            "region_region_11              -3.2169     0.1724 -18.6646 0.0000     -3.5547    -2.8791\n",
            "region_region_12              -2.9894     0.2343 -12.7573 0.0000     -3.4487    -2.5302\n",
            "region_region_13              -2.5165     0.1270 -19.8199 0.0000     -2.7653    -2.2676\n",
            "region_region_14              -2.7651     0.1863 -14.8394 0.0000     -3.1303    -2.3999\n",
            "region_region_15              -2.5436     0.1278 -19.9096 0.0000     -2.7940    -2.2932\n",
            "region_region_16              -2.7346     0.1539 -17.7722 0.0000     -3.0361    -2.4330\n",
            "region_region_17              -2.0703     0.1588 -13.0339 0.0000     -2.3816    -1.7590\n",
            "region_region_18             -22.8457 26401.2929  -0.0009 0.9993 -51768.4289 51722.7376\n",
            "region_region_19              -2.7037     0.1940 -13.9370 0.0000     -3.0840    -2.3235\n",
            "region_region_2               -2.3550     0.1075 -21.9024 0.0000     -2.5657    -2.1443\n",
            "region_region_20              -3.0339     0.1919 -15.8127 0.0000     -3.4100    -2.6579\n",
            "region_region_21              -3.4151     0.3112 -10.9740 0.0000     -4.0251    -2.8052\n",
            "region_region_22              -2.3609     0.1087 -21.7259 0.0000     -2.5739    -2.1479\n",
            "region_region_23              -2.2901     0.1469 -15.5919 0.0000     -2.5779    -2.0022\n",
            "region_region_24              -3.3743     0.2877 -11.7300 0.0000     -3.9381    -2.8105\n",
            "region_region_25              -2.4016     0.1610 -14.9134 0.0000     -2.7173    -2.0860\n",
            "region_region_26              -2.8886     0.1408 -20.5207 0.0000     -3.1645    -2.6127\n",
            "region_region_27              -2.6974     0.1471 -18.3351 0.0000     -2.9857    -2.4090\n",
            "region_region_28              -2.3394     0.1382 -16.9218 0.0000     -2.6103    -2.0684\n",
            "region_region_29              -3.5558     0.2081 -17.0856 0.0000     -3.9637    -3.1479\n",
            "region_region_3               -2.3772     0.2253 -10.5511 0.0000     -2.8188    -1.9356\n",
            "region_region_30              -2.5809     0.1898 -13.5956 0.0000     -2.9530    -2.2088\n",
            "region_region_31              -3.0517     0.1508 -20.2412 0.0000     -3.3472    -2.7562\n",
            "region_region_32              -3.2881     0.2130 -15.4369 0.0000     -3.7056    -2.8706\n",
            "region_region_33              -3.2867     0.3856  -8.5233 0.0000     -4.0425    -2.5309\n",
            "region_region_34              -3.9289     0.4485  -8.7605 0.0000     -4.8079    -3.0499\n",
            "region_region_4               -2.0600     0.1287 -16.0015 0.0000     -2.3123    -1.8076\n",
            "region_region_5               -3.1205     0.2184 -14.2882 0.0000     -3.5486    -2.6925\n",
            "region_region_6               -3.3871     0.2321 -14.5917 0.0000     -3.8421    -2.9322\n",
            "region_region_7               -2.2845     0.1130 -20.2214 0.0000     -2.5059    -2.0631\n",
            "region_region_8               -2.9396     0.1942 -15.1396 0.0000     -3.3201    -2.5590\n",
            "region_region_9               -4.2278     0.4076 -10.3715 0.0000     -5.0268    -3.4289\n",
            "education_Below Secondary     -0.6178     0.1550  -3.9852 0.0001     -0.9217    -0.3140\n",
            "education_Master's & above     0.4189     0.0453   9.2432 0.0000      0.3301     0.5077\n",
            "gender_m                      -0.1681     0.0403  -4.1662 0.0000     -0.2472    -0.0890\n",
            "recruitment_channel_referred  -0.1250     0.1119  -1.1166 0.2642     -0.3443     0.0944\n",
            "recruitment_channel_sourcing  -0.1289     0.0371  -3.4710 0.0005     -0.2017    -0.0561\n",
            "=======================================================================================\n",
            "\n"
          ]
        }
      ]
    },
    {
      "cell_type": "code",
      "source": [],
      "metadata": {
        "id": "a-ywOsMmzTIJ"
      },
      "execution_count": null,
      "outputs": []
    }
  ]
}